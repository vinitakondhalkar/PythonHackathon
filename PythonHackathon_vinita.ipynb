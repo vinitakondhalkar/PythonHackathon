{
  "nbformat": 4,
  "nbformat_minor": 0,
  "metadata": {
    "colab": {
      "name": "PythonHackathon_vinita.ipynb",
      "provenance": [],
      "collapsed_sections": [],
      "authorship_tag": "ABX9TyNka7natX8kp9swnYZFj898",
      "include_colab_link": true
    },
    "kernelspec": {
      "name": "python3",
      "display_name": "Python 3"
    },
    "language_info": {
      "name": "python"
    }
  },
  "cells": [
    {
      "cell_type": "markdown",
      "metadata": {
        "id": "view-in-github",
        "colab_type": "text"
      },
      "source": [
        "<a href=\"https://colab.research.google.com/github/vinitakondhalkar/PythonHackathon/blob/main/PythonHackathon_vinita.ipynb\" target=\"_parent\"><img src=\"https://colab.research.google.com/assets/colab-badge.svg\" alt=\"Open In Colab\"/></a>"
      ]
    },
    {
      "cell_type": "code",
      "execution_count": 2,
      "metadata": {
        "colab": {
          "base_uri": "https://localhost:8080/"
        },
        "id": "CF4H_r7ZcsOh",
        "outputId": "4f5ce104-c4b2-4755-bf02-b98ebf28909e"
      },
      "outputs": [
        {
          "output_type": "stream",
          "name": "stdout",
          "text": [
            "Mounted at /content/drive\n"
          ]
        }
      ],
      "source": [
        "from google.colab import drive\n",
        "drive.mount('/content/drive')"
      ]
    },
    {
      "cell_type": "code",
      "source": [
        "#cd '/content/drive/MyDrive/datasets' #after connecting to drive and change file path\n",
        "import os\n",
        "os.chdir('/content/drive/MyDrive/PythonHackathon')"
      ],
      "metadata": {
        "id": "6onBWkOmddAx"
      },
      "execution_count": 3,
      "outputs": []
    },
    {
      "cell_type": "code",
      "source": [
        "#Import the required libraries\n",
        "import pandas as pd\n",
        "import matplotlib.pyplot as plt\n",
        "import seaborn as sns\n",
        "import numpy as np\n",
        "%matplotlib inline\n"
      ],
      "metadata": {
        "id": "nbKw1j4EenxT"
      },
      "execution_count": 4,
      "outputs": []
    },
    {
      "cell_type": "code",
      "source": [
        "filePath={\n",
        "    \"Patients\":\"Patients.csv\",\n",
        "    \"EDVisits\":\"EDVisits.csv\",\n",
        "    \"AmbulatoryVisits\":\"AmbulatoryVisits.csv\",\n",
        "    \"ReAdmissionRegistry\":\"ReAdmissionRegistry.csv\",\n",
        "    \"Discharges\":\"Discharges.csv\",\n",
        "    \"Providers\":\"Providers.csv\",\n",
        "    \"EDUnique\":\"EDUnique.csv\"\n",
        "}"
      ],
      "metadata": {
        "id": "8h1RGd9ee54j"
      },
      "execution_count": 165,
      "outputs": []
    },
    {
      "cell_type": "code",
      "source": [
        "Patients=pd.read_csv(filePath['Patients'])\n",
        "EDVisits=pd.read_csv(filePath['EDVisits'])\n",
        "AmbulatoryVisits=pd.read_csv(filePath['AmbulatoryVisits'])\n",
        "ReAdmissionRegistry=pd.read_csv(filePath['ReAdmissionRegistry'])\n",
        "Discharges=pd.read_csv(filePath['Discharges'])\n",
        "Providers=pd.read_csv(filePath['Providers'])\n",
        "EDUnique=pd.read_csv(filePath['EDUnique'])"
      ],
      "metadata": {
        "id": "Img73i8lfAwU"
      },
      "execution_count": 166,
      "outputs": []
    },
    {
      "cell_type": "markdown",
      "source": [
        "**12.Connect to sql and Write a query to get list of Provider names whose Providername is starting with letter T**"
      ],
      "metadata": {
        "id": "MFv9GFTgfyoD"
      }
    },
    {
      "cell_type": "code",
      "source": [
        "Providers[Providers['ProviderName'].str.startswith(\"T\")]\n",
        "\n"
      ],
      "metadata": {
        "id": "zF2S53Zuf8PE",
        "colab": {
          "base_uri": "https://localhost:8080/",
          "height": 237
        },
        "outputId": "4e4beb1c-7791-4a41-ea30-8b467f401ea1"
      },
      "execution_count": 157,
      "outputs": [
        {
          "output_type": "execute_result",
          "data": {
            "text/plain": [
              "    ProviderID  ProviderName ProviderSpecialty ProviderDateOnStaff\n",
              "3            4     Ted Texas        Pediatrics          12/23/1993\n",
              "7            8     Ted Green        Pediatrics           5/30/1996\n",
              "8            9     Ted Black        Pediatrics           2/20/1997\n",
              "18          19  Tyler Conner        Cardiology            7/9/2003\n",
              "33          34    Tony Creed       PrimaryCare           4/28/2010\n",
              "36          37     Trent Tye       PrimaryCare           1/12/2013"
            ],
            "text/html": [
              "\n",
              "  <div id=\"df-205d8c18-52d5-425c-a0db-e8ca0e3c0d61\">\n",
              "    <div class=\"colab-df-container\">\n",
              "      <div>\n",
              "<style scoped>\n",
              "    .dataframe tbody tr th:only-of-type {\n",
              "        vertical-align: middle;\n",
              "    }\n",
              "\n",
              "    .dataframe tbody tr th {\n",
              "        vertical-align: top;\n",
              "    }\n",
              "\n",
              "    .dataframe thead th {\n",
              "        text-align: right;\n",
              "    }\n",
              "</style>\n",
              "<table border=\"1\" class=\"dataframe\">\n",
              "  <thead>\n",
              "    <tr style=\"text-align: right;\">\n",
              "      <th></th>\n",
              "      <th>ProviderID</th>\n",
              "      <th>ProviderName</th>\n",
              "      <th>ProviderSpecialty</th>\n",
              "      <th>ProviderDateOnStaff</th>\n",
              "    </tr>\n",
              "  </thead>\n",
              "  <tbody>\n",
              "    <tr>\n",
              "      <th>3</th>\n",
              "      <td>4</td>\n",
              "      <td>Ted Texas</td>\n",
              "      <td>Pediatrics</td>\n",
              "      <td>12/23/1993</td>\n",
              "    </tr>\n",
              "    <tr>\n",
              "      <th>7</th>\n",
              "      <td>8</td>\n",
              "      <td>Ted Green</td>\n",
              "      <td>Pediatrics</td>\n",
              "      <td>5/30/1996</td>\n",
              "    </tr>\n",
              "    <tr>\n",
              "      <th>8</th>\n",
              "      <td>9</td>\n",
              "      <td>Ted Black</td>\n",
              "      <td>Pediatrics</td>\n",
              "      <td>2/20/1997</td>\n",
              "    </tr>\n",
              "    <tr>\n",
              "      <th>18</th>\n",
              "      <td>19</td>\n",
              "      <td>Tyler Conner</td>\n",
              "      <td>Cardiology</td>\n",
              "      <td>7/9/2003</td>\n",
              "    </tr>\n",
              "    <tr>\n",
              "      <th>33</th>\n",
              "      <td>34</td>\n",
              "      <td>Tony Creed</td>\n",
              "      <td>PrimaryCare</td>\n",
              "      <td>4/28/2010</td>\n",
              "    </tr>\n",
              "    <tr>\n",
              "      <th>36</th>\n",
              "      <td>37</td>\n",
              "      <td>Trent Tye</td>\n",
              "      <td>PrimaryCare</td>\n",
              "      <td>1/12/2013</td>\n",
              "    </tr>\n",
              "  </tbody>\n",
              "</table>\n",
              "</div>\n",
              "      <button class=\"colab-df-convert\" onclick=\"convertToInteractive('df-205d8c18-52d5-425c-a0db-e8ca0e3c0d61')\"\n",
              "              title=\"Convert this dataframe to an interactive table.\"\n",
              "              style=\"display:none;\">\n",
              "        \n",
              "  <svg xmlns=\"http://www.w3.org/2000/svg\" height=\"24px\"viewBox=\"0 0 24 24\"\n",
              "       width=\"24px\">\n",
              "    <path d=\"M0 0h24v24H0V0z\" fill=\"none\"/>\n",
              "    <path d=\"M18.56 5.44l.94 2.06.94-2.06 2.06-.94-2.06-.94-.94-2.06-.94 2.06-2.06.94zm-11 1L8.5 8.5l.94-2.06 2.06-.94-2.06-.94L8.5 2.5l-.94 2.06-2.06.94zm10 10l.94 2.06.94-2.06 2.06-.94-2.06-.94-.94-2.06-.94 2.06-2.06.94z\"/><path d=\"M17.41 7.96l-1.37-1.37c-.4-.4-.92-.59-1.43-.59-.52 0-1.04.2-1.43.59L10.3 9.45l-7.72 7.72c-.78.78-.78 2.05 0 2.83L4 21.41c.39.39.9.59 1.41.59.51 0 1.02-.2 1.41-.59l7.78-7.78 2.81-2.81c.8-.78.8-2.07 0-2.86zM5.41 20L4 18.59l7.72-7.72 1.47 1.35L5.41 20z\"/>\n",
              "  </svg>\n",
              "      </button>\n",
              "      \n",
              "  <style>\n",
              "    .colab-df-container {\n",
              "      display:flex;\n",
              "      flex-wrap:wrap;\n",
              "      gap: 12px;\n",
              "    }\n",
              "\n",
              "    .colab-df-convert {\n",
              "      background-color: #E8F0FE;\n",
              "      border: none;\n",
              "      border-radius: 50%;\n",
              "      cursor: pointer;\n",
              "      display: none;\n",
              "      fill: #1967D2;\n",
              "      height: 32px;\n",
              "      padding: 0 0 0 0;\n",
              "      width: 32px;\n",
              "    }\n",
              "\n",
              "    .colab-df-convert:hover {\n",
              "      background-color: #E2EBFA;\n",
              "      box-shadow: 0px 1px 2px rgba(60, 64, 67, 0.3), 0px 1px 3px 1px rgba(60, 64, 67, 0.15);\n",
              "      fill: #174EA6;\n",
              "    }\n",
              "\n",
              "    [theme=dark] .colab-df-convert {\n",
              "      background-color: #3B4455;\n",
              "      fill: #D2E3FC;\n",
              "    }\n",
              "\n",
              "    [theme=dark] .colab-df-convert:hover {\n",
              "      background-color: #434B5C;\n",
              "      box-shadow: 0px 1px 3px 1px rgba(0, 0, 0, 0.15);\n",
              "      filter: drop-shadow(0px 1px 2px rgba(0, 0, 0, 0.3));\n",
              "      fill: #FFFFFF;\n",
              "    }\n",
              "  </style>\n",
              "\n",
              "      <script>\n",
              "        const buttonEl =\n",
              "          document.querySelector('#df-205d8c18-52d5-425c-a0db-e8ca0e3c0d61 button.colab-df-convert');\n",
              "        buttonEl.style.display =\n",
              "          google.colab.kernel.accessAllowed ? 'block' : 'none';\n",
              "\n",
              "        async function convertToInteractive(key) {\n",
              "          const element = document.querySelector('#df-205d8c18-52d5-425c-a0db-e8ca0e3c0d61');\n",
              "          const dataTable =\n",
              "            await google.colab.kernel.invokeFunction('convertToInteractive',\n",
              "                                                     [key], {});\n",
              "          if (!dataTable) return;\n",
              "\n",
              "          const docLinkHtml = 'Like what you see? Visit the ' +\n",
              "            '<a target=\"_blank\" href=https://colab.research.google.com/notebooks/data_table.ipynb>data table notebook</a>'\n",
              "            + ' to learn more about interactive tables.';\n",
              "          element.innerHTML = '';\n",
              "          dataTable['output_type'] = 'display_data';\n",
              "          await google.colab.output.renderOutput(dataTable, element);\n",
              "          const docLink = document.createElement('div');\n",
              "          docLink.innerHTML = docLinkHtml;\n",
              "          element.appendChild(docLink);\n",
              "        }\n",
              "      </script>\n",
              "    </div>\n",
              "  </div>\n",
              "  "
            ]
          },
          "metadata": {},
          "execution_count": 157
        }
      ]
    },
    {
      "cell_type": "markdown",
      "source": [
        "\n",
        "**13.Create a subplot on x = np.arange(0, 10, 0.1) , y = np.sin(np.pi * x) + x  with 2 rows & 2 columns with object oriented**\n",
        "\n",
        "\n"
      ],
      "metadata": {
        "id": "OukFVZjkgDKD"
      }
    },
    {
      "cell_type": "code",
      "source": [
        "#SOLUTION 1 \n",
        "#When stacking in two directions, the returned axs is a 2D NumPy array. If you have to set parameters for each subplot it's handy to iterate over all subplots in a 2D grid using for ax in axs.flat:.\n",
        "\n",
        "import matplotlib.pyplot as plt\n",
        "x = np.arange(0, 10, 0.1)\n",
        "y = np.sin(np.pi * x) + x\n",
        "# creating a figure object\n",
        "fig=plt.figure()\n",
        "fig, axis = plt.subplots(2, 2)\n",
        "axis[0, 0].plot(x, y)\n",
        "axis[0, 0].set_title('Axis [0, 0]')\n",
        "axis[0, 1].plot(y, x, 'tab:orange')\n",
        "axis[0, 1].set_title('Axis [0, 1]')\n",
        "axis[1, 0].plot(x, y, 'tab:green')\n",
        "axis[1, 0].set_title('Axis [1, 0]')\n",
        "axis[1, 1].plot(y, x, 'tab:red')\n",
        "axis[1, 1].set_title('Axis [1, 1]')\n",
        "\n",
        "for ax in axis.flat:\n",
        "    ax.set(xlabel='x-label', ylabel='y-label')\n",
        "\n",
        "# Hide x labels and tick labels for top plots and y ticks for right plots.\n",
        "for ax in axis.flat:\n",
        "    ax.label_outer()\n",
        "\n",
        "plt.tight_layout()\n"
      ],
      "metadata": {
        "colab": {
          "base_uri": "https://localhost:8080/",
          "height": 314
        },
        "id": "kGzVfVoslX8S",
        "outputId": "21b9be3a-5bed-4946-f98c-357a1a77d28c"
      },
      "execution_count": 28,
      "outputs": [
        {
          "output_type": "display_data",
          "data": {
            "text/plain": [
              "<Figure size 432x288 with 0 Axes>"
            ]
          },
          "metadata": {}
        },
        {
          "output_type": "display_data",
          "data": {
            "text/plain": [
              "<Figure size 432x288 with 4 Axes>"
            ],
            "image/png": "[encoded data removed]"
          },
          "metadata": {
            "needs_background": "light"
          }
        }
      ]
    },
    {
      "cell_type": "code",
      "source": [
        "#SOLUTION 2\n",
        "#You can use tuple-unpacking also in 2D to assign all subplots to dedicated variables:\n",
        "\n",
        "import matplotlib.pyplot as plt\n",
        "x = np.arange(0, 10, 0.1)\n",
        "y = np.sin(np.pi * x) + x\n",
        "# creating a figure object\n",
        "fig, ((ax1, ax2), (ax3, ax4)) = plt.subplots(2, 2)\n",
        "fig.suptitle('Sharing x per column, y per row')\n",
        "ax1.plot(x, y)\n",
        "ax2.plot(x, y**2, 'tab:orange')\n",
        "ax3.plot(x, -y, 'tab:green')\n",
        "ax4.plot(x, -y**2, 'tab:red')\n",
        "\n",
        "for ax in fig.get_axes():\n",
        "    ax.label_outer()"
      ],
      "metadata": {
        "colab": {
          "base_uri": "https://localhost:8080/",
          "height": 294
        },
        "id": "dVyFwKxG6aHV",
        "outputId": "ab7f0925-29ec-4fb5-8072-cf7405cf3fb4"
      },
      "execution_count": 36,
      "outputs": [
        {
          "output_type": "display_data",
          "data": {
            "text/plain": [
              "<Figure size 432x288 with 4 Axes>"
            ],
            "image/png": "[encoded data removed]"
          },
          "metadata": {
            "needs_background": "light"
          }
        }
      ]
    },
    {
      "cell_type": "code",
      "source": [
        "#SOLUTION 3 (not working yet)\n",
        "import matplotlib.pyplot as plt\n",
        "import matplotlib.gridspec as gridspec\n",
        "x = np.arange(0, 10, 0.1)\n",
        "y = np.sin(np.pi * x) + x\n",
        "# creating a figure object\n",
        "fig, ((ax1, ax2), (ax3, ax4)) = plt.subplots(2, 2)\n",
        "gs = fig.add_gridspec(2, 2, hspace=0, wspace=0)\n",
        "(ax1, ax2), (ax3, ax4) = gs.subplots(sharex='col', sharey='row')\n",
        "fig.suptitle('Sharing x per column, y per row')\n",
        "ax1.plot(x, y)\n",
        "ax2.plot(x, y**2, 'tab:orange')\n",
        "ax3.plot(x + 1, -y, 'tab:green')\n",
        "ax4.plot(x + 2, -y**2, 'tab:red')\n",
        "\n",
        "for ax in axis.flat:\n",
        "    ax.label_outer()"
      ],
      "metadata": {
        "colab": {
          "base_uri": "https://localhost:8080/",
          "height": 487
        },
        "id": "SLzZMn-E-uPo",
        "outputId": "23fd241b-2fbf-4c74-86cf-1e23e7894a51"
      },
      "execution_count": 45,
      "outputs": [
        {
          "output_type": "error",
          "ename": "AttributeError",
          "evalue": "ignored",
          "traceback": [
            "\u001b[0;31m---------------------------------------------------------------------------\u001b[0m",
            "\u001b[0;31mAttributeError\u001b[0m                            Traceback (most recent call last)",
            "\u001b[0;32m<ipython-input-45-8aaf2ed31213>\u001b[0m in \u001b[0;36m<module>\u001b[0;34m()\u001b[0m\n\u001b[1;32m      6\u001b[0m \u001b[0mfig\u001b[0m\u001b[0;34m,\u001b[0m \u001b[0;34m(\u001b[0m\u001b[0;34m(\u001b[0m\u001b[0max1\u001b[0m\u001b[0;34m,\u001b[0m \u001b[0max2\u001b[0m\u001b[0;34m)\u001b[0m\u001b[0;34m,\u001b[0m \u001b[0;34m(\u001b[0m\u001b[0max3\u001b[0m\u001b[0;34m,\u001b[0m \u001b[0max4\u001b[0m\u001b[0;34m)\u001b[0m\u001b[0;34m)\u001b[0m \u001b[0;34m=\u001b[0m \u001b[0mplt\u001b[0m\u001b[0;34m.\u001b[0m\u001b[0msubplots\u001b[0m\u001b[0;34m(\u001b[0m\u001b[0;36m2\u001b[0m\u001b[0;34m,\u001b[0m \u001b[0;36m2\u001b[0m\u001b[0;34m)\u001b[0m\u001b[0;34m\u001b[0m\u001b[0;34m\u001b[0m\u001b[0m\n\u001b[1;32m      7\u001b[0m \u001b[0mgs\u001b[0m \u001b[0;34m=\u001b[0m \u001b[0mfig\u001b[0m\u001b[0;34m.\u001b[0m\u001b[0madd_gridspec\u001b[0m\u001b[0;34m(\u001b[0m\u001b[0;36m2\u001b[0m\u001b[0;34m,\u001b[0m \u001b[0;36m2\u001b[0m\u001b[0;34m,\u001b[0m \u001b[0mhspace\u001b[0m\u001b[0;34m=\u001b[0m\u001b[0;36m0\u001b[0m\u001b[0;34m,\u001b[0m \u001b[0mwspace\u001b[0m\u001b[0;34m=\u001b[0m\u001b[0;36m0\u001b[0m\u001b[0;34m)\u001b[0m\u001b[0;34m\u001b[0m\u001b[0;34m\u001b[0m\u001b[0m\n\u001b[0;32m----> 8\u001b[0;31m \u001b[0;34m(\u001b[0m\u001b[0max1\u001b[0m\u001b[0;34m,\u001b[0m \u001b[0max2\u001b[0m\u001b[0;34m)\u001b[0m\u001b[0;34m,\u001b[0m \u001b[0;34m(\u001b[0m\u001b[0max3\u001b[0m\u001b[0;34m,\u001b[0m \u001b[0max4\u001b[0m\u001b[0;34m)\u001b[0m \u001b[0;34m=\u001b[0m \u001b[0mgs\u001b[0m\u001b[0;34m.\u001b[0m\u001b[0msubplots\u001b[0m\u001b[0;34m(\u001b[0m\u001b[0msharex\u001b[0m\u001b[0;34m=\u001b[0m\u001b[0;34m'col'\u001b[0m\u001b[0;34m,\u001b[0m \u001b[0msharey\u001b[0m\u001b[0;34m=\u001b[0m\u001b[0;34m'row'\u001b[0m\u001b[0;34m)\u001b[0m\u001b[0;34m\u001b[0m\u001b[0;34m\u001b[0m\u001b[0m\n\u001b[0m\u001b[1;32m      9\u001b[0m \u001b[0mfig\u001b[0m\u001b[0;34m.\u001b[0m\u001b[0msuptitle\u001b[0m\u001b[0;34m(\u001b[0m\u001b[0;34m'Sharing x per column, y per row'\u001b[0m\u001b[0;34m)\u001b[0m\u001b[0;34m\u001b[0m\u001b[0;34m\u001b[0m\u001b[0m\n\u001b[1;32m     10\u001b[0m \u001b[0max1\u001b[0m\u001b[0;34m.\u001b[0m\u001b[0mplot\u001b[0m\u001b[0;34m(\u001b[0m\u001b[0mx\u001b[0m\u001b[0;34m,\u001b[0m \u001b[0my\u001b[0m\u001b[0;34m)\u001b[0m\u001b[0;34m\u001b[0m\u001b[0;34m\u001b[0m\u001b[0m\n",
            "\u001b[0;31mAttributeError\u001b[0m: 'GridSpec' object has no attribute 'subplots'"
          ]
        },
        {
          "output_type": "display_data",
          "data": {
            "text/plain": [
              "<Figure size 432x288 with 4 Axes>"
            ],
            "image/png": "[encoded data removed]"
          },
          "metadata": {
            "needs_background": "light"
          }
        }
      ]
    },
    {
      "cell_type": "markdown",
      "source": [
        "**14.Find the number of null values in BloodPressureSystolic column**"
      ],
      "metadata": {
        "id": "GipnfuCCgZky"
      }
    },
    {
      "cell_type": "code",
      "source": [
        "# Count total missing values in a dataframe , returns an integer value\n",
        "print(\"Number of null values in BloodPressureSystolic column :\",AmbulatoryVisits['BloodPressureSystolic'].isnull().sum())\n"
      ],
      "metadata": {
        "id": "QIpkxNUxhT-_",
        "colab": {
          "base_uri": "https://localhost:8080/"
        },
        "outputId": "5827a4c0-b41e-40c0-b82a-3b469b15d882"
      },
      "execution_count": 50,
      "outputs": [
        {
          "output_type": "stream",
          "name": "stdout",
          "text": [
            "Number of null values in BloodPressureSystolic column : 124\n"
          ]
        }
      ]
    },
    {
      "cell_type": "markdown",
      "source": [
        "**15.Replace all the null values in ReadmissionFlag with 0**"
      ],
      "metadata": {
        "id": "qrJ0kbvZgs3e"
      }
    },
    {
      "cell_type": "code",
      "source": [
        "#SOLUTION 1\n",
        "ReAdmissionRegistry[\"ReadmissionFlag\"].fillna(0, inplace = True)\n",
        "\n",
        "#SOLUTION 2\n",
        "ReAdmissionRegistry[\"ReadmissionFlag\"].replace(to_replace = np.nan, value = 0) "
      ],
      "metadata": {
        "id": "aqAyMIsFhUpd",
        "colab": {
          "base_uri": "https://localhost:8080/"
        },
        "outputId": "39f64034-d7d5-45ef-8e16-3de10f6757aa"
      },
      "execution_count": 55,
      "outputs": [
        {
          "output_type": "execute_result",
          "data": {
            "text/plain": [
              "0      0.0\n",
              "1      1.0\n",
              "2      1.0\n",
              "3      1.0\n",
              "4      0.0\n",
              "      ... \n",
              "715    0.0\n",
              "716    0.0\n",
              "717    0.0\n",
              "718    0.0\n",
              "719    0.0\n",
              "Name: ReadmissionFlag, Length: 720, dtype: float64"
            ]
          },
          "metadata": {},
          "execution_count": 55
        }
      ]
    },
    {
      "cell_type": "markdown",
      "source": [
        "**16.Plot a graph to show the distribution of expected length of stay**"
      ],
      "metadata": {
        "id": "n7fGH3YNgyic"
      }
    },
    {
      "cell_type": "code",
      "source": [
        "ReAdmissionRegistry['ExpectedLOS'].min()\n"
      ],
      "metadata": {
        "id": "UshUirpbhVIZ",
        "colab": {
          "base_uri": "https://localhost:8080/"
        },
        "outputId": "8a137540-f76e-41e4-8765-c624496edd7a"
      },
      "execution_count": 66,
      "outputs": [
        {
          "output_type": "execute_result",
          "data": {
            "text/plain": [
              "2.012973923"
            ]
          },
          "metadata": {},
          "execution_count": 66
        }
      ]
    },
    {
      "cell_type": "code",
      "source": [
        "ReAdmissionRegistry['ExpectedLOS'].max()"
      ],
      "metadata": {
        "colab": {
          "base_uri": "https://localhost:8080/"
        },
        "id": "EnfLjja1MvnZ",
        "outputId": "47857c15-3c3e-49ab-e8ae-ca0cba618e4d"
      },
      "execution_count": 67,
      "outputs": [
        {
          "output_type": "execute_result",
          "data": {
            "text/plain": [
              "16.99821319"
            ]
          },
          "metadata": {},
          "execution_count": 67
        }
      ]
    },
    {
      "cell_type": "code",
      "source": [
        "sns.set(style='dark',)\n",
        "plot=sns.distplot(ReAdmissionRegistry['ExpectedLOS'],kde=True,bins=5,color='purple')\n",
        "plt.show()"
      ],
      "metadata": {
        "colab": {
          "base_uri": "https://localhost:8080/",
          "height": 340
        },
        "id": "zXp9PaJ7MzvZ",
        "outputId": "28e0643a-1fe0-4939-f125-684137495b32"
      },
      "execution_count": 80,
      "outputs": [
        {
          "output_type": "stream",
          "name": "stderr",
          "text": [
            "/usr/local/lib/python3.7/dist-packages/seaborn/distributions.py:2619: FutureWarning: `distplot` is a deprecated function and will be removed in a future version. Please adapt your code to use either `displot` (a figure-level function with similar flexibility) or `histplot` (an axes-level function for histograms).\n",
            "  warnings.warn(msg, FutureWarning)\n"
          ]
        },
        {
          "output_type": "display_data",
          "data": {
            "text/plain": [
              "<Figure size 432x288 with 1 Axes>"
            ],
            "image/png": "[encoded data removed]"
          },
          "metadata": {}
        }
      ]
    },
    {
      "cell_type": "markdown",
      "source": [
        "**17.Create a heat map to show the correlation between the column values of Edvisits**"
      ],
      "metadata": {
        "id": "Ha9O7zoKg2-T"
      }
    },
    {
      "cell_type": "code",
      "source": [
        "ed_corr=EDVisits.corr()\n",
        "ed_corr\n",
        "sns.heatmap(ed_corr,annot=True,cmap='coolwarm')"
      ],
      "metadata": {
        "id": "QrK8nfqJhVt-",
        "colab": {
          "base_uri": "https://localhost:8080/",
          "height": 289
        },
        "outputId": "74f5108a-6dd0-49b4-f6e2-75adb6e5c2dc"
      },
      "execution_count": 83,
      "outputs": [
        {
          "output_type": "execute_result",
          "data": {
            "text/plain": [
              "<matplotlib.axes._subplots.AxesSubplot at 0x7fd77fe3e290>"
            ]
          },
          "metadata": {},
          "execution_count": 83
        },
        {
          "output_type": "display_data",
          "data": {
            "text/plain": [
              "<Figure size 432x288 with 2 Axes>"
            ],
            "image/png": "[encoded data removed]"
          },
          "metadata": {}
        }
      ]
    },
    {
      "cell_type": "markdown",
      "source": [
        "**18.Add column 'Age' in Patient table**"
      ],
      "metadata": {
        "id": "uC2JLH_dg-BJ"
      }
    },
    {
      "cell_type": "code",
      "source": [
        "from datetime import datetime, date\n",
        "# This function converts given date to age\n",
        "def age(born):\n",
        "    born = datetime.strptime(born, \"%m/%d/%Y\").date()\n",
        "    today = date.today()\n",
        "    return today.year - born.year - ((today.month, \n",
        "                                      today.day) < (born.month, \n",
        "                                                    born.day))\n",
        "  \n",
        "Patients['Age'] = Patients['DateOfBirth'].apply(age)\n",
        "Patients\n",
        "\n"
      ],
      "metadata": {
        "id": "ZbYNxY-ShWuD",
        "colab": {
          "base_uri": "https://localhost:8080/",
          "height": 424
        },
        "outputId": "23a864ea-6fbe-4a9f-a75e-f8f516a2f824"
      },
      "execution_count": 85,
      "outputs": [
        {
          "output_type": "execute_result",
          "data": {
            "text/plain": [
              "     PatientID FirstName  LastName DateOfBirth Gender                    Race  \\\n",
              "0            1     Lanni       Sue    1/1/1960   Male                   White   \n",
              "1            2       Far     Myers  11/15/1985   Male                   White   \n",
              "2            3   Devlin    Michael   4/15/1976   Male                   White   \n",
              "3            4   Carmine     Texas  10/15/1968   Male                   White   \n",
              "4            5     Tann       Bama    5/1/1962   Male                   White   \n",
              "..         ...       ...       ...         ...    ...                     ...   \n",
              "940        941       Wat   Fideler   5/26/1986   Male  Black/African-American   \n",
              "941        942    Wandie  Baythrop   6/10/1970   Male  Black/African-American   \n",
              "942        943   Diahann   Smeeton    1/8/1983   Male  Black/African-American   \n",
              "943        944  Panchito   Sharple    6/5/1963   Male  Black/African-American   \n",
              "944        945     Walsh    Calvie    8/6/1972   Male  Black/African-American   \n",
              "\n",
              "    Language  Age  \n",
              "0    English   62  \n",
              "1    English   36  \n",
              "2    English   46  \n",
              "3    English   53  \n",
              "4    English   60  \n",
              "..       ...  ...  \n",
              "940  English   35  \n",
              "941  English   51  \n",
              "942  English   39  \n",
              "943  English   58  \n",
              "944  English   49  \n",
              "\n",
              "[945 rows x 8 columns]"
            ],
            "text/html": [
              "\n",
              "  <div id=\"df-a95bacf3-9634-4e55-9c9b-2b51bdc86839\">\n",
              "    <div class=\"colab-df-container\">\n",
              "      <div>\n",
              "<style scoped>\n",
              "    .dataframe tbody tr th:only-of-type {\n",
              "        vertical-align: middle;\n",
              "    }\n",
              "\n",
              "    .dataframe tbody tr th {\n",
              "        vertical-align: top;\n",
              "    }\n",
              "\n",
              "    .dataframe thead th {\n",
              "        text-align: right;\n",
              "    }\n",
              "</style>\n",
              "<table border=\"1\" class=\"dataframe\">\n",
              "  <thead>\n",
              "    <tr style=\"text-align: right;\">\n",
              "      <th></th>\n",
              "      <th>PatientID</th>\n",
              "      <th>FirstName</th>\n",
              "      <th>LastName</th>\n",
              "      <th>DateOfBirth</th>\n",
              "      <th>Gender</th>\n",
              "      <th>Race</th>\n",
              "      <th>Language</th>\n",
              "      <th>Age</th>\n",
              "    </tr>\n",
              "  </thead>\n",
              "  <tbody>\n",
              "    <tr>\n",
              "      <th>0</th>\n",
              "      <td>1</td>\n",
              "      <td>Lanni</td>\n",
              "      <td>Sue</td>\n",
              "      <td>1/1/1960</td>\n",
              "      <td>Male</td>\n",
              "      <td>White</td>\n",
              "      <td>English</td>\n",
              "      <td>62</td>\n",
              "    </tr>\n",
              "    <tr>\n",
              "      <th>1</th>\n",
              "      <td>2</td>\n",
              "      <td>Far</td>\n",
              "      <td>Myers</td>\n",
              "      <td>11/15/1985</td>\n",
              "      <td>Male</td>\n",
              "      <td>White</td>\n",
              "      <td>English</td>\n",
              "      <td>36</td>\n",
              "    </tr>\n",
              "    <tr>\n",
              "      <th>2</th>\n",
              "      <td>3</td>\n",
              "      <td>Devlin</td>\n",
              "      <td>Michael</td>\n",
              "      <td>4/15/1976</td>\n",
              "      <td>Male</td>\n",
              "      <td>White</td>\n",
              "      <td>English</td>\n",
              "      <td>46</td>\n",
              "    </tr>\n",
              "    <tr>\n",
              "      <th>3</th>\n",
              "      <td>4</td>\n",
              "      <td>Carmine</td>\n",
              "      <td>Texas</td>\n",
              "      <td>10/15/1968</td>\n",
              "      <td>Male</td>\n",
              "      <td>White</td>\n",
              "      <td>English</td>\n",
              "      <td>53</td>\n",
              "    </tr>\n",
              "    <tr>\n",
              "      <th>4</th>\n",
              "      <td>5</td>\n",
              "      <td>Tann</td>\n",
              "      <td>Bama</td>\n",
              "      <td>5/1/1962</td>\n",
              "      <td>Male</td>\n",
              "      <td>White</td>\n",
              "      <td>English</td>\n",
              "      <td>60</td>\n",
              "    </tr>\n",
              "    <tr>\n",
              "      <th>...</th>\n",
              "      <td>...</td>\n",
              "      <td>...</td>\n",
              "      <td>...</td>\n",
              "      <td>...</td>\n",
              "      <td>...</td>\n",
              "      <td>...</td>\n",
              "      <td>...</td>\n",
              "      <td>...</td>\n",
              "    </tr>\n",
              "    <tr>\n",
              "      <th>940</th>\n",
              "      <td>941</td>\n",
              "      <td>Wat</td>\n",
              "      <td>Fideler</td>\n",
              "      <td>5/26/1986</td>\n",
              "      <td>Male</td>\n",
              "      <td>Black/African-American</td>\n",
              "      <td>English</td>\n",
              "      <td>35</td>\n",
              "    </tr>\n",
              "    <tr>\n",
              "      <th>941</th>\n",
              "      <td>942</td>\n",
              "      <td>Wandie</td>\n",
              "      <td>Baythrop</td>\n",
              "      <td>6/10/1970</td>\n",
              "      <td>Male</td>\n",
              "      <td>Black/African-American</td>\n",
              "      <td>English</td>\n",
              "      <td>51</td>\n",
              "    </tr>\n",
              "    <tr>\n",
              "      <th>942</th>\n",
              "      <td>943</td>\n",
              "      <td>Diahann</td>\n",
              "      <td>Smeeton</td>\n",
              "      <td>1/8/1983</td>\n",
              "      <td>Male</td>\n",
              "      <td>Black/African-American</td>\n",
              "      <td>English</td>\n",
              "      <td>39</td>\n",
              "    </tr>\n",
              "    <tr>\n",
              "      <th>943</th>\n",
              "      <td>944</td>\n",
              "      <td>Panchito</td>\n",
              "      <td>Sharple</td>\n",
              "      <td>6/5/1963</td>\n",
              "      <td>Male</td>\n",
              "      <td>Black/African-American</td>\n",
              "      <td>English</td>\n",
              "      <td>58</td>\n",
              "    </tr>\n",
              "    <tr>\n",
              "      <th>944</th>\n",
              "      <td>945</td>\n",
              "      <td>Walsh</td>\n",
              "      <td>Calvie</td>\n",
              "      <td>8/6/1972</td>\n",
              "      <td>Male</td>\n",
              "      <td>Black/African-American</td>\n",
              "      <td>English</td>\n",
              "      <td>49</td>\n",
              "    </tr>\n",
              "  </tbody>\n",
              "</table>\n",
              "<p>945 rows × 8 columns</p>\n",
              "</div>\n",
              "      <button class=\"colab-df-convert\" onclick=\"convertToInteractive('df-a95bacf3-9634-4e55-9c9b-2b51bdc86839')\"\n",
              "              title=\"Convert this dataframe to an interactive table.\"\n",
              "              style=\"display:none;\">\n",
              "        \n",
              "  <svg xmlns=\"http://www.w3.org/2000/svg\" height=\"24px\"viewBox=\"0 0 24 24\"\n",
              "       width=\"24px\">\n",
              "    <path d=\"M0 0h24v24H0V0z\" fill=\"none\"/>\n",
              "    <path d=\"M18.56 5.44l.94 2.06.94-2.06 2.06-.94-2.06-.94-.94-2.06-.94 2.06-2.06.94zm-11 1L8.5 8.5l.94-2.06 2.06-.94-2.06-.94L8.5 2.5l-.94 2.06-2.06.94zm10 10l.94 2.06.94-2.06 2.06-.94-2.06-.94-.94-2.06-.94 2.06-2.06.94z\"/><path d=\"M17.41 7.96l-1.37-1.37c-.4-.4-.92-.59-1.43-.59-.52 0-1.04.2-1.43.59L10.3 9.45l-7.72 7.72c-.78.78-.78 2.05 0 2.83L4 21.41c.39.39.9.59 1.41.59.51 0 1.02-.2 1.41-.59l7.78-7.78 2.81-2.81c.8-.78.8-2.07 0-2.86zM5.41 20L4 18.59l7.72-7.72 1.47 1.35L5.41 20z\"/>\n",
              "  </svg>\n",
              "      </button>\n",
              "      \n",
              "  <style>\n",
              "    .colab-df-container {\n",
              "      display:flex;\n",
              "      flex-wrap:wrap;\n",
              "      gap: 12px;\n",
              "    }\n",
              "\n",
              "    .colab-df-convert {\n",
              "      background-color: #E8F0FE;\n",
              "      border: none;\n",
              "      border-radius: 50%;\n",
              "      cursor: pointer;\n",
              "      display: none;\n",
              "      fill: #1967D2;\n",
              "      height: 32px;\n",
              "      padding: 0 0 0 0;\n",
              "      width: 32px;\n",
              "    }\n",
              "\n",
              "    .colab-df-convert:hover {\n",
              "      background-color: #E2EBFA;\n",
              "      box-shadow: 0px 1px 2px rgba(60, 64, 67, 0.3), 0px 1px 3px 1px rgba(60, 64, 67, 0.15);\n",
              "      fill: #174EA6;\n",
              "    }\n",
              "\n",
              "    [theme=dark] .colab-df-convert {\n",
              "      background-color: #3B4455;\n",
              "      fill: #D2E3FC;\n",
              "    }\n",
              "\n",
              "    [theme=dark] .colab-df-convert:hover {\n",
              "      background-color: #434B5C;\n",
              "      box-shadow: 0px 1px 3px 1px rgba(0, 0, 0, 0.15);\n",
              "      filter: drop-shadow(0px 1px 2px rgba(0, 0, 0, 0.3));\n",
              "      fill: #FFFFFF;\n",
              "    }\n",
              "  </style>\n",
              "\n",
              "      <script>\n",
              "        const buttonEl =\n",
              "          document.querySelector('#df-a95bacf3-9634-4e55-9c9b-2b51bdc86839 button.colab-df-convert');\n",
              "        buttonEl.style.display =\n",
              "          google.colab.kernel.accessAllowed ? 'block' : 'none';\n",
              "\n",
              "        async function convertToInteractive(key) {\n",
              "          const element = document.querySelector('#df-a95bacf3-9634-4e55-9c9b-2b51bdc86839');\n",
              "          const dataTable =\n",
              "            await google.colab.kernel.invokeFunction('convertToInteractive',\n",
              "                                                     [key], {});\n",
              "          if (!dataTable) return;\n",
              "\n",
              "          const docLinkHtml = 'Like what you see? Visit the ' +\n",
              "            '<a target=\"_blank\" href=https://colab.research.google.com/notebooks/data_table.ipynb>data table notebook</a>'\n",
              "            + ' to learn more about interactive tables.';\n",
              "          element.innerHTML = '';\n",
              "          dataTable['output_type'] = 'display_data';\n",
              "          await google.colab.output.renderOutput(dataTable, element);\n",
              "          const docLink = document.createElement('div');\n",
              "          docLink.innerHTML = docLinkHtml;\n",
              "          element.appendChild(docLink);\n",
              "        }\n",
              "      </script>\n",
              "    </div>\n",
              "  </div>\n",
              "  "
            ]
          },
          "metadata": {},
          "execution_count": 85
        }
      ]
    },
    {
      "cell_type": "markdown",
      "source": [
        "**19.Create a dataframe with date and time as columns, where the values are the discharge time from readmissionregistry sheet**"
      ],
      "metadata": {
        "id": "RymSvsGUhBSU"
      }
    },
    {
      "cell_type": "code",
      "source": [
        "\n",
        "ReAdmissionRegistry.DischargeDate = pd.to_datetime(ReAdmissionRegistry.DischargeDate)\n",
        "Date_df = ReAdmissionRegistry.DischargeDate.dt.normalize()\n",
        "Date_df\n",
        "\n"
      ],
      "metadata": {
        "id": "X4cJl1YxhXb_",
        "colab": {
          "base_uri": "https://localhost:8080/"
        },
        "outputId": "178aa364-0ec2-4623-cb5c-8b27d28f3df4"
      },
      "execution_count": 99,
      "outputs": [
        {
          "output_type": "execute_result",
          "data": {
            "text/plain": [
              "0     2018-01-04\n",
              "1     2018-01-04\n",
              "2     2018-01-04\n",
              "3     2018-01-05\n",
              "4     2018-01-05\n",
              "         ...    \n",
              "715   2018-03-07\n",
              "716   2018-03-08\n",
              "717   2018-03-08\n",
              "718   2018-03-10\n",
              "719   2018-03-10\n",
              "Name: DischargeDate, Length: 720, dtype: datetime64[ns]"
            ]
          },
          "metadata": {},
          "execution_count": 99
        }
      ]
    },
    {
      "cell_type": "markdown",
      "source": [
        "**20.Count of number of patients admitted based on Primary Diagnosis and Service provided**"
      ],
      "metadata": {
        "id": "Ns7xOLi-hE2T"
      }
    },
    {
      "cell_type": "code",
      "source": [
        "#SOLUTION 1\n",
        "ReAdmissionRegistry.groupby([\"PrimaryDiagnosis\",\"Service\"])['PatientID'].nunique()"
      ],
      "metadata": {
        "id": "wMXg-fyohX1S",
        "colab": {
          "base_uri": "https://localhost:8080/"
        },
        "outputId": "2c8a5c13-3448-41ad-db30-a2cae6025b4b"
      },
      "execution_count": 104,
      "outputs": [
        {
          "output_type": "execute_result",
          "data": {
            "text/plain": [
              "PrimaryDiagnosis    Service         \n",
              "AMI                 Cardiology          40\n",
              "                    Hospitalist          1\n",
              "                    ICU                  5\n",
              "                    Neurology            2\n",
              "Afib                Cardiology          10\n",
              "                    ICU                  1\n",
              "Broken Leg          Cardiology           3\n",
              "                    General Medicine     3\n",
              "                    Hospitalist          3\n",
              "Diabetes            General Medicine    38\n",
              "                    Hospitalist         26\n",
              "Fever               General Medicine    13\n",
              "                    Hospitalist          3\n",
              "                    ICU                  3\n",
              "Flu                 Cardiology           2\n",
              "                    General Medicine    54\n",
              "                    Hospitalist         19\n",
              "                    ICU                  3\n",
              "                    Neurology            2\n",
              "Heart Failure       Cardiology          39\n",
              "                    ICU                 33\n",
              "                    Neurology            6\n",
              "Hip Fracture        Orthopeadics        23\n",
              "Hypertension        General Medicine    34\n",
              "                    Hospitalist          6\n",
              "                    ICU                  4\n",
              "                    Neurology            5\n",
              "Kidney Failure      Cardiology           1\n",
              "                    General Medicine    12\n",
              "                    Hospitalist          6\n",
              "                    ICU                  1\n",
              "Knee Replacement    Hospitalist          1\n",
              "                    Orthopeadics        22\n",
              "Laceration          General Medicine    21\n",
              "                    Hospitalist          7\n",
              "                    ICU                  1\n",
              "Migraine            Neurology           12\n",
              "Pain                Neurology            7\n",
              "Pneumonia           General Medicine    67\n",
              "                    Hospitalist         28\n",
              "                    ICU                 77\n",
              "                    Neurology            5\n",
              "Spinal Cord Injury  ICU                  2\n",
              "Stroke              General Medicine    20\n",
              "                    Hospitalist          1\n",
              "                    ICU                 21\n",
              "                    Neurology           26\n",
              "Name: PatientID, dtype: int64"
            ]
          },
          "metadata": {},
          "execution_count": 104
        }
      ]
    },
    {
      "cell_type": "code",
      "source": [
        "#SOLUTION 2\n",
        "ReAdmissionRegistry.groupby([\"PrimaryDiagnosis\",\"Service\"])['PatientID'].size()"
      ],
      "metadata": {
        "colab": {
          "base_uri": "https://localhost:8080/"
        },
        "id": "BXW_mNCxhgv4",
        "outputId": "67399f43-7cba-4ac0-a428-345443904d65"
      },
      "execution_count": 106,
      "outputs": [
        {
          "output_type": "execute_result",
          "data": {
            "text/plain": [
              "PrimaryDiagnosis    Service         \n",
              "AMI                 Cardiology          40\n",
              "                    Hospitalist          1\n",
              "                    ICU                  5\n",
              "                    Neurology            2\n",
              "Afib                Cardiology          10\n",
              "                    ICU                  1\n",
              "Broken Leg          Cardiology           3\n",
              "                    General Medicine     3\n",
              "                    Hospitalist          3\n",
              "Diabetes            General Medicine    38\n",
              "                    Hospitalist         26\n",
              "Fever               General Medicine    13\n",
              "                    Hospitalist          3\n",
              "                    ICU                  3\n",
              "Flu                 Cardiology           2\n",
              "                    General Medicine    54\n",
              "                    Hospitalist         19\n",
              "                    ICU                  3\n",
              "                    Neurology            2\n",
              "Heart Failure       Cardiology          39\n",
              "                    ICU                 33\n",
              "                    Neurology            6\n",
              "Hip Fracture        Orthopeadics        23\n",
              "Hypertension        General Medicine    35\n",
              "                    Hospitalist          6\n",
              "                    ICU                  4\n",
              "                    Neurology            5\n",
              "Kidney Failure      Cardiology           1\n",
              "                    General Medicine    12\n",
              "                    Hospitalist          6\n",
              "                    ICU                  1\n",
              "Knee Replacement    Hospitalist          1\n",
              "                    Orthopeadics        22\n",
              "Laceration          General Medicine    21\n",
              "                    Hospitalist          7\n",
              "                    ICU                  1\n",
              "Migraine            Neurology           12\n",
              "Pain                Neurology            7\n",
              "Pneumonia           General Medicine    67\n",
              "                    Hospitalist         28\n",
              "                    ICU                 77\n",
              "                    Neurology            5\n",
              "Spinal Cord Injury  ICU                  2\n",
              "Stroke              General Medicine    20\n",
              "                    Hospitalist          1\n",
              "                    ICU                 21\n",
              "                    Neurology           26\n",
              "Name: PatientID, dtype: int64"
            ]
          },
          "metadata": {},
          "execution_count": 106
        }
      ]
    },
    {
      "cell_type": "code",
      "source": [
        "#SOLUTION 3\n",
        "ReAdmissionRegistry.groupby([\"PrimaryDiagnosis\",\"Service\"])['PatientID'].count()"
      ],
      "metadata": {
        "colab": {
          "base_uri": "https://localhost:8080/"
        },
        "id": "-Gl8jFWqhtV2",
        "outputId": "7b8c07b6-5e6d-4e02-fb06-89ed8a03834f"
      },
      "execution_count": 107,
      "outputs": [
        {
          "output_type": "execute_result",
          "data": {
            "text/plain": [
              "PrimaryDiagnosis    Service         \n",
              "AMI                 Cardiology          40\n",
              "                    Hospitalist          1\n",
              "                    ICU                  5\n",
              "                    Neurology            2\n",
              "Afib                Cardiology          10\n",
              "                    ICU                  1\n",
              "Broken Leg          Cardiology           3\n",
              "                    General Medicine     3\n",
              "                    Hospitalist          3\n",
              "Diabetes            General Medicine    38\n",
              "                    Hospitalist         26\n",
              "Fever               General Medicine    13\n",
              "                    Hospitalist          3\n",
              "                    ICU                  3\n",
              "Flu                 Cardiology           2\n",
              "                    General Medicine    54\n",
              "                    Hospitalist         19\n",
              "                    ICU                  3\n",
              "                    Neurology            2\n",
              "Heart Failure       Cardiology          39\n",
              "                    ICU                 33\n",
              "                    Neurology            6\n",
              "Hip Fracture        Orthopeadics        23\n",
              "Hypertension        General Medicine    35\n",
              "                    Hospitalist          6\n",
              "                    ICU                  4\n",
              "                    Neurology            5\n",
              "Kidney Failure      Cardiology           1\n",
              "                    General Medicine    12\n",
              "                    Hospitalist          6\n",
              "                    ICU                  1\n",
              "Knee Replacement    Hospitalist          1\n",
              "                    Orthopeadics        22\n",
              "Laceration          General Medicine    21\n",
              "                    Hospitalist          7\n",
              "                    ICU                  1\n",
              "Migraine            Neurology           12\n",
              "Pain                Neurology            7\n",
              "Pneumonia           General Medicine    67\n",
              "                    Hospitalist         28\n",
              "                    ICU                 77\n",
              "                    Neurology            5\n",
              "Spinal Cord Injury  ICU                  2\n",
              "Stroke              General Medicine    20\n",
              "                    Hospitalist          1\n",
              "                    ICU                 21\n",
              "                    Neurology           26\n",
              "Name: PatientID, dtype: int64"
            ]
          },
          "metadata": {},
          "execution_count": 107
        }
      ]
    },
    {
      "cell_type": "markdown",
      "source": [
        "**21.Which demographic patients are prone to get stroke**"
      ],
      "metadata": {
        "id": "Ljn_adRohv0D"
      }
    },
    {
      "cell_type": "code",
      "source": [
        ""
      ],
      "metadata": {
        "id": "ejMf9tw3jyBK"
      },
      "execution_count": null,
      "outputs": []
    },
    {
      "cell_type": "markdown",
      "source": [
        "**22.Create a dataframe with acuity and EDDisposition as the indices and the count of number of patients as the value**"
      ],
      "metadata": {
        "id": "7ZCbimoyhLLg"
      }
    },
    {
      "cell_type": "code",
      "source": [
        "EDVisits_new = EDVisits.set_index(['Acuity','EDDisposition'])\n",
        "#SOLUTION 1\n",
        "EDVisits_new.groupby(['Acuity','EDDisposition'])['PatientID'].count()\n",
        "#SOLUTION 2\n",
        "EDVisits_new.groupby(level=[0,1])[\"PatientID\"].count()"
      ],
      "metadata": {
        "colab": {
          "base_uri": "https://localhost:8080/"
        },
        "id": "lHfLdaKAq_zH",
        "outputId": "bbfcf297-1453-4310-dae6-fa748bcc18bc"
      },
      "execution_count": 122,
      "outputs": [
        {
          "output_type": "execute_result",
          "data": {
            "text/plain": [
              "Acuity  EDDisposition\n",
              "1       Admitted          32\n",
              "        Discharged       558\n",
              "2       Admitted         116\n",
              "        Discharged        66\n",
              "3       Admitted          81\n",
              "4       Admitted         107\n",
              "        Discharged        30\n",
              "5       Admitted         179\n",
              "        Discharged        30\n",
              "Name: PatientID, dtype: int64"
            ]
          },
          "metadata": {},
          "execution_count": 122
        }
      ]
    },
    {
      "cell_type": "markdown",
      "source": [
        "**51.Display patient details where \"ReasonForVisit\" is either 'Migraine' or 'Pneumonia' and Acuity is 2 or more.**"
      ],
      "metadata": {
        "id": "1wGLXoO6-SBr"
      }
    },
    {
      "cell_type": "code",
      "source": [
        "EDVisits[EDVisits['ReasonForVisit'].isin(['Migraine','Pneumonia']) & (EDVisits.Acuity >=2)]\n"
      ],
      "metadata": {
        "colab": {
          "base_uri": "https://localhost:8080/",
          "height": 424
        },
        "id": "AhEYWiZLA2YH",
        "outputId": "2f8d8fce-5ba2-4de9-88bc-5b4d5da6bbaa"
      },
      "execution_count": 22,
      "outputs": [
        {
          "output_type": "execute_result",
          "data": {
            "text/plain": [
              "      EDVisitID  PatientID    VisitDate EDDischargeTime  Acuity  \\\n",
              "1            12         12   2:45:40 AM      2:00:01 AM       2   \n",
              "3            14         14   3:12:19 AM      4:32:29 AM       3   \n",
              "11           29         29   6:51:29 AM      5:57:02 AM       2   \n",
              "12           30         30   7:25:54 AM     11:30:20 PM       3   \n",
              "13           31         31   7:32:52 AM      7:55:47 PM       4   \n",
              "...         ...        ...          ...             ...     ...   \n",
              "1107       1027        773   3:27:07 PM      1:27:32 PM       2   \n",
              "1150       1104        850  10:46:09 AM      8:52:26 PM       2   \n",
              "1152       1106        852  11:19:41 AM      2:47:17 AM       2   \n",
              "1160       1122        868   3:05:59 PM      1:53:03 PM       2   \n",
              "1162       1124        870   3:31:20 PM     10:28:29 AM       2   \n",
              "\n",
              "     ReasonForVisit EDDisposition  \n",
              "1          Migraine      Admitted  \n",
              "3          Migraine      Admitted  \n",
              "11        Pneumonia      Admitted  \n",
              "12        Pneumonia      Admitted  \n",
              "13        Pneumonia      Admitted  \n",
              "...             ...           ...  \n",
              "1107       Migraine    Discharged  \n",
              "1150       Migraine    Discharged  \n",
              "1152       Migraine    Discharged  \n",
              "1160       Migraine    Discharged  \n",
              "1162       Migraine    Discharged  \n",
              "\n",
              "[215 rows x 7 columns]"
            ],
            "text/html": [
              "\n",
              "  <div id=\"df-203e5eaa-0b6d-499d-b04c-0e871dac38fa\">\n",
              "    <div class=\"colab-df-container\">\n",
              "      <div>\n",
              "<style scoped>\n",
              "    .dataframe tbody tr th:only-of-type {\n",
              "        vertical-align: middle;\n",
              "    }\n",
              "\n",
              "    .dataframe tbody tr th {\n",
              "        vertical-align: top;\n",
              "    }\n",
              "\n",
              "    .dataframe thead th {\n",
              "        text-align: right;\n",
              "    }\n",
              "</style>\n",
              "<table border=\"1\" class=\"dataframe\">\n",
              "  <thead>\n",
              "    <tr style=\"text-align: right;\">\n",
              "      <th></th>\n",
              "      <th>EDVisitID</th>\n",
              "      <th>PatientID</th>\n",
              "      <th>VisitDate</th>\n",
              "      <th>EDDischargeTime</th>\n",
              "      <th>Acuity</th>\n",
              "      <th>ReasonForVisit</th>\n",
              "      <th>EDDisposition</th>\n",
              "    </tr>\n",
              "  </thead>\n",
              "  <tbody>\n",
              "    <tr>\n",
              "      <th>1</th>\n",
              "      <td>12</td>\n",
              "      <td>12</td>\n",
              "      <td>2:45:40 AM</td>\n",
              "      <td>2:00:01 AM</td>\n",
              "      <td>2</td>\n",
              "      <td>Migraine</td>\n",
              "      <td>Admitted</td>\n",
              "    </tr>\n",
              "    <tr>\n",
              "      <th>3</th>\n",
              "      <td>14</td>\n",
              "      <td>14</td>\n",
              "      <td>3:12:19 AM</td>\n",
              "      <td>4:32:29 AM</td>\n",
              "      <td>3</td>\n",
              "      <td>Migraine</td>\n",
              "      <td>Admitted</td>\n",
              "    </tr>\n",
              "    <tr>\n",
              "      <th>11</th>\n",
              "      <td>29</td>\n",
              "      <td>29</td>\n",
              "      <td>6:51:29 AM</td>\n",
              "      <td>5:57:02 AM</td>\n",
              "      <td>2</td>\n",
              "      <td>Pneumonia</td>\n",
              "      <td>Admitted</td>\n",
              "    </tr>\n",
              "    <tr>\n",
              "      <th>12</th>\n",
              "      <td>30</td>\n",
              "      <td>30</td>\n",
              "      <td>7:25:54 AM</td>\n",
              "      <td>11:30:20 PM</td>\n",
              "      <td>3</td>\n",
              "      <td>Pneumonia</td>\n",
              "      <td>Admitted</td>\n",
              "    </tr>\n",
              "    <tr>\n",
              "      <th>13</th>\n",
              "      <td>31</td>\n",
              "      <td>31</td>\n",
              "      <td>7:32:52 AM</td>\n",
              "      <td>7:55:47 PM</td>\n",
              "      <td>4</td>\n",
              "      <td>Pneumonia</td>\n",
              "      <td>Admitted</td>\n",
              "    </tr>\n",
              "    <tr>\n",
              "      <th>...</th>\n",
              "      <td>...</td>\n",
              "      <td>...</td>\n",
              "      <td>...</td>\n",
              "      <td>...</td>\n",
              "      <td>...</td>\n",
              "      <td>...</td>\n",
              "      <td>...</td>\n",
              "    </tr>\n",
              "    <tr>\n",
              "      <th>1107</th>\n",
              "      <td>1027</td>\n",
              "      <td>773</td>\n",
              "      <td>3:27:07 PM</td>\n",
              "      <td>1:27:32 PM</td>\n",
              "      <td>2</td>\n",
              "      <td>Migraine</td>\n",
              "      <td>Discharged</td>\n",
              "    </tr>\n",
              "    <tr>\n",
              "      <th>1150</th>\n",
              "      <td>1104</td>\n",
              "      <td>850</td>\n",
              "      <td>10:46:09 AM</td>\n",
              "      <td>8:52:26 PM</td>\n",
              "      <td>2</td>\n",
              "      <td>Migraine</td>\n",
              "      <td>Discharged</td>\n",
              "    </tr>\n",
              "    <tr>\n",
              "      <th>1152</th>\n",
              "      <td>1106</td>\n",
              "      <td>852</td>\n",
              "      <td>11:19:41 AM</td>\n",
              "      <td>2:47:17 AM</td>\n",
              "      <td>2</td>\n",
              "      <td>Migraine</td>\n",
              "      <td>Discharged</td>\n",
              "    </tr>\n",
              "    <tr>\n",
              "      <th>1160</th>\n",
              "      <td>1122</td>\n",
              "      <td>868</td>\n",
              "      <td>3:05:59 PM</td>\n",
              "      <td>1:53:03 PM</td>\n",
              "      <td>2</td>\n",
              "      <td>Migraine</td>\n",
              "      <td>Discharged</td>\n",
              "    </tr>\n",
              "    <tr>\n",
              "      <th>1162</th>\n",
              "      <td>1124</td>\n",
              "      <td>870</td>\n",
              "      <td>3:31:20 PM</td>\n",
              "      <td>10:28:29 AM</td>\n",
              "      <td>2</td>\n",
              "      <td>Migraine</td>\n",
              "      <td>Discharged</td>\n",
              "    </tr>\n",
              "  </tbody>\n",
              "</table>\n",
              "<p>215 rows × 7 columns</p>\n",
              "</div>\n",
              "      <button class=\"colab-df-convert\" onclick=\"convertToInteractive('df-203e5eaa-0b6d-499d-b04c-0e871dac38fa')\"\n",
              "              title=\"Convert this dataframe to an interactive table.\"\n",
              "              style=\"display:none;\">\n",
              "        \n",
              "  <svg xmlns=\"http://www.w3.org/2000/svg\" height=\"24px\"viewBox=\"0 0 24 24\"\n",
              "       width=\"24px\">\n",
              "    <path d=\"M0 0h24v24H0V0z\" fill=\"none\"/>\n",
              "    <path d=\"M18.56 5.44l.94 2.06.94-2.06 2.06-.94-2.06-.94-.94-2.06-.94 2.06-2.06.94zm-11 1L8.5 8.5l.94-2.06 2.06-.94-2.06-.94L8.5 2.5l-.94 2.06-2.06.94zm10 10l.94 2.06.94-2.06 2.06-.94-2.06-.94-.94-2.06-.94 2.06-2.06.94z\"/><path d=\"M17.41 7.96l-1.37-1.37c-.4-.4-.92-.59-1.43-.59-.52 0-1.04.2-1.43.59L10.3 9.45l-7.72 7.72c-.78.78-.78 2.05 0 2.83L4 21.41c.39.39.9.59 1.41.59.51 0 1.02-.2 1.41-.59l7.78-7.78 2.81-2.81c.8-.78.8-2.07 0-2.86zM5.41 20L4 18.59l7.72-7.72 1.47 1.35L5.41 20z\"/>\n",
              "  </svg>\n",
              "      </button>\n",
              "      \n",
              "  <style>\n",
              "    .colab-df-container {\n",
              "      display:flex;\n",
              "      flex-wrap:wrap;\n",
              "      gap: 12px;\n",
              "    }\n",
              "\n",
              "    .colab-df-convert {\n",
              "      background-color: #E8F0FE;\n",
              "      border: none;\n",
              "      border-radius: 50%;\n",
              "      cursor: pointer;\n",
              "      display: none;\n",
              "      fill: #1967D2;\n",
              "      height: 32px;\n",
              "      padding: 0 0 0 0;\n",
              "      width: 32px;\n",
              "    }\n",
              "\n",
              "    .colab-df-convert:hover {\n",
              "      background-color: #E2EBFA;\n",
              "      box-shadow: 0px 1px 2px rgba(60, 64, 67, 0.3), 0px 1px 3px 1px rgba(60, 64, 67, 0.15);\n",
              "      fill: #174EA6;\n",
              "    }\n",
              "\n",
              "    [theme=dark] .colab-df-convert {\n",
              "      background-color: #3B4455;\n",
              "      fill: #D2E3FC;\n",
              "    }\n",
              "\n",
              "    [theme=dark] .colab-df-convert:hover {\n",
              "      background-color: #434B5C;\n",
              "      box-shadow: 0px 1px 3px 1px rgba(0, 0, 0, 0.15);\n",
              "      filter: drop-shadow(0px 1px 2px rgba(0, 0, 0, 0.3));\n",
              "      fill: #FFFFFF;\n",
              "    }\n",
              "  </style>\n",
              "\n",
              "      <script>\n",
              "        const buttonEl =\n",
              "          document.querySelector('#df-203e5eaa-0b6d-499d-b04c-0e871dac38fa button.colab-df-convert');\n",
              "        buttonEl.style.display =\n",
              "          google.colab.kernel.accessAllowed ? 'block' : 'none';\n",
              "\n",
              "        async function convertToInteractive(key) {\n",
              "          const element = document.querySelector('#df-203e5eaa-0b6d-499d-b04c-0e871dac38fa');\n",
              "          const dataTable =\n",
              "            await google.colab.kernel.invokeFunction('convertToInteractive',\n",
              "                                                     [key], {});\n",
              "          if (!dataTable) return;\n",
              "\n",
              "          const docLinkHtml = 'Like what you see? Visit the ' +\n",
              "            '<a target=\"_blank\" href=https://colab.research.google.com/notebooks/data_table.ipynb>data table notebook</a>'\n",
              "            + ' to learn more about interactive tables.';\n",
              "          element.innerHTML = '';\n",
              "          dataTable['output_type'] = 'display_data';\n",
              "          await google.colab.output.renderOutput(dataTable, element);\n",
              "          const docLink = document.createElement('div');\n",
              "          docLink.innerHTML = docLinkHtml;\n",
              "          element.appendChild(docLink);\n",
              "        }\n",
              "      </script>\n",
              "    </div>\n",
              "  </div>\n",
              "  "
            ]
          },
          "metadata": {},
          "execution_count": 22
        }
      ]
    },
    {
      "cell_type": "markdown",
      "source": [
        "**52.Retrieve the row with minimum DBP using sorting technique**"
      ],
      "metadata": {
        "id": "G5rJOb7V-YT6"
      }
    },
    {
      "cell_type": "code",
      "source": [
        "AmbulatoryVisits[AmbulatoryVisits.BloodPressureDiastolic == AmbulatoryVisits.BloodPressureDiastolic.min()]"
      ],
      "metadata": {
        "colab": {
          "base_uri": "https://localhost:8080/",
          "height": 145
        },
        "id": "HN8qqWe7EgzE",
        "outputId": "55b699b7-a939-421e-ddfb-cb0f196546bc"
      },
      "execution_count": 23,
      "outputs": [
        {
          "output_type": "execute_result",
          "data": {
            "text/plain": [
              "     VisitID  PatientMRN  ProviderID DateofVisit DateScheduled  \\\n",
              "757      163         801          11    2/8/2019      2/7/2019   \n",
              "\n",
              "     VisitDepartmentID  VisitType  BloodPressureSystolic  \\\n",
              "757                  7  Follow Up                  120.0   \n",
              "\n",
              "     BloodPressureDiastolic      Pulse VisitStatus  \n",
              "757               51.695653  53.310495   Completed  "
            ],
            "text/html": [
              "\n",
              "  <div id=\"df-d2883f5e-55d8-43fa-9ae4-16327a7888b1\">\n",
              "    <div class=\"colab-df-container\">\n",
              "      <div>\n",
              "<style scoped>\n",
              "    .dataframe tbody tr th:only-of-type {\n",
              "        vertical-align: middle;\n",
              "    }\n",
              "\n",
              "    .dataframe tbody tr th {\n",
              "        vertical-align: top;\n",
              "    }\n",
              "\n",
              "    .dataframe thead th {\n",
              "        text-align: right;\n",
              "    }\n",
              "</style>\n",
              "<table border=\"1\" class=\"dataframe\">\n",
              "  <thead>\n",
              "    <tr style=\"text-align: right;\">\n",
              "      <th></th>\n",
              "      <th>VisitID</th>\n",
              "      <th>PatientMRN</th>\n",
              "      <th>ProviderID</th>\n",
              "      <th>DateofVisit</th>\n",
              "      <th>DateScheduled</th>\n",
              "      <th>VisitDepartmentID</th>\n",
              "      <th>VisitType</th>\n",
              "      <th>BloodPressureSystolic</th>\n",
              "      <th>BloodPressureDiastolic</th>\n",
              "      <th>Pulse</th>\n",
              "      <th>VisitStatus</th>\n",
              "    </tr>\n",
              "  </thead>\n",
              "  <tbody>\n",
              "    <tr>\n",
              "      <th>757</th>\n",
              "      <td>163</td>\n",
              "      <td>801</td>\n",
              "      <td>11</td>\n",
              "      <td>2/8/2019</td>\n",
              "      <td>2/7/2019</td>\n",
              "      <td>7</td>\n",
              "      <td>Follow Up</td>\n",
              "      <td>120.0</td>\n",
              "      <td>51.695653</td>\n",
              "      <td>53.310495</td>\n",
              "      <td>Completed</td>\n",
              "    </tr>\n",
              "  </tbody>\n",
              "</table>\n",
              "</div>\n",
              "      <button class=\"colab-df-convert\" onclick=\"convertToInteractive('df-d2883f5e-55d8-43fa-9ae4-16327a7888b1')\"\n",
              "              title=\"Convert this dataframe to an interactive table.\"\n",
              "              style=\"display:none;\">\n",
              "        \n",
              "  <svg xmlns=\"http://www.w3.org/2000/svg\" height=\"24px\"viewBox=\"0 0 24 24\"\n",
              "       width=\"24px\">\n",
              "    <path d=\"M0 0h24v24H0V0z\" fill=\"none\"/>\n",
              "    <path d=\"M18.56 5.44l.94 2.06.94-2.06 2.06-.94-2.06-.94-.94-2.06-.94 2.06-2.06.94zm-11 1L8.5 8.5l.94-2.06 2.06-.94-2.06-.94L8.5 2.5l-.94 2.06-2.06.94zm10 10l.94 2.06.94-2.06 2.06-.94-2.06-.94-.94-2.06-.94 2.06-2.06.94z\"/><path d=\"M17.41 7.96l-1.37-1.37c-.4-.4-.92-.59-1.43-.59-.52 0-1.04.2-1.43.59L10.3 9.45l-7.72 7.72c-.78.78-.78 2.05 0 2.83L4 21.41c.39.39.9.59 1.41.59.51 0 1.02-.2 1.41-.59l7.78-7.78 2.81-2.81c.8-.78.8-2.07 0-2.86zM5.41 20L4 18.59l7.72-7.72 1.47 1.35L5.41 20z\"/>\n",
              "  </svg>\n",
              "      </button>\n",
              "      \n",
              "  <style>\n",
              "    .colab-df-container {\n",
              "      display:flex;\n",
              "      flex-wrap:wrap;\n",
              "      gap: 12px;\n",
              "    }\n",
              "\n",
              "    .colab-df-convert {\n",
              "      background-color: #E8F0FE;\n",
              "      border: none;\n",
              "      border-radius: 50%;\n",
              "      cursor: pointer;\n",
              "      display: none;\n",
              "      fill: #1967D2;\n",
              "      height: 32px;\n",
              "      padding: 0 0 0 0;\n",
              "      width: 32px;\n",
              "    }\n",
              "\n",
              "    .colab-df-convert:hover {\n",
              "      background-color: #E2EBFA;\n",
              "      box-shadow: 0px 1px 2px rgba(60, 64, 67, 0.3), 0px 1px 3px 1px rgba(60, 64, 67, 0.15);\n",
              "      fill: #174EA6;\n",
              "    }\n",
              "\n",
              "    [theme=dark] .colab-df-convert {\n",
              "      background-color: #3B4455;\n",
              "      fill: #D2E3FC;\n",
              "    }\n",
              "\n",
              "    [theme=dark] .colab-df-convert:hover {\n",
              "      background-color: #434B5C;\n",
              "      box-shadow: 0px 1px 3px 1px rgba(0, 0, 0, 0.15);\n",
              "      filter: drop-shadow(0px 1px 2px rgba(0, 0, 0, 0.3));\n",
              "      fill: #FFFFFF;\n",
              "    }\n",
              "  </style>\n",
              "\n",
              "      <script>\n",
              "        const buttonEl =\n",
              "          document.querySelector('#df-d2883f5e-55d8-43fa-9ae4-16327a7888b1 button.colab-df-convert');\n",
              "        buttonEl.style.display =\n",
              "          google.colab.kernel.accessAllowed ? 'block' : 'none';\n",
              "\n",
              "        async function convertToInteractive(key) {\n",
              "          const element = document.querySelector('#df-d2883f5e-55d8-43fa-9ae4-16327a7888b1');\n",
              "          const dataTable =\n",
              "            await google.colab.kernel.invokeFunction('convertToInteractive',\n",
              "                                                     [key], {});\n",
              "          if (!dataTable) return;\n",
              "\n",
              "          const docLinkHtml = 'Like what you see? Visit the ' +\n",
              "            '<a target=\"_blank\" href=https://colab.research.google.com/notebooks/data_table.ipynb>data table notebook</a>'\n",
              "            + ' to learn more about interactive tables.';\n",
              "          element.innerHTML = '';\n",
              "          dataTable['output_type'] = 'display_data';\n",
              "          await google.colab.output.renderOutput(dataTable, element);\n",
              "          const docLink = document.createElement('div');\n",
              "          docLink.innerHTML = docLinkHtml;\n",
              "          element.appendChild(docLink);\n",
              "        }\n",
              "      </script>\n",
              "    </div>\n",
              "  </div>\n",
              "  "
            ]
          },
          "metadata": {},
          "execution_count": 23
        }
      ]
    },
    {
      "cell_type": "markdown",
      "source": [
        "**53.Take the ReasonForVisit from user, find the number of patients admitted with that ReasonForVisit**"
      ],
      "metadata": {
        "id": "PViasKa5-YB8"
      }
    },
    {
      "cell_type": "code",
      "source": [
        "reason = input(\"Enter the Reason For Visit : \")\n",
        "print(reason)\n",
        "# Printing type of input value\n",
        "#print (\"type of input\", type(reason))\n",
        "filtering = EDVisits['ReasonForVisit'] == reason\n",
        "EDVisits.where(filtering,inplace=True)\n",
        "EDVisits.groupby(\"ReasonForVisit\")[\"PatientID\"].count()\n",
        "\n",
        "  "
      ],
      "metadata": {
        "colab": {
          "base_uri": "https://localhost:8080/"
        },
        "id": "fMygAOFIEhf3",
        "outputId": "d3bb7cd4-b099-4720-ecee-a49e369aa842"
      },
      "execution_count": 69,
      "outputs": [
        {
          "output_type": "stream",
          "name": "stdout",
          "text": [
            "Enter the Reason For Visit : Fever\n",
            "Fever\n"
          ]
        },
        {
          "output_type": "execute_result",
          "data": {
            "text/plain": [
              "ReasonForVisit\n",
              "Fever    234\n",
              "Name: PatientID, dtype: int64"
            ]
          },
          "metadata": {},
          "execution_count": 69
        }
      ]
    },
    {
      "cell_type": "markdown",
      "source": [
        "**54.Mortality O.E**"
      ],
      "metadata": {
        "id": "mTR3RIMN-X8g"
      }
    },
    {
      "cell_type": "code",
      "source": [
        ""
      ],
      "metadata": {
        "id": "tdm_KCHnEifs"
      },
      "execution_count": null,
      "outputs": []
    },
    {
      "cell_type": "markdown",
      "source": [
        "**55.Create a bar chart on service & expected length of stay**"
      ],
      "metadata": {
        "id": "pdL1Qnz7-Xww"
      }
    },
    {
      "cell_type": "code",
      "source": [
        "sns.barplot(x='Service',y='ExpectedLOS',data=ReAdmissionRegistry)\n",
        "sns.set_style('darkgrid')\n",
        "plt.show()"
      ],
      "metadata": {
        "colab": {
          "base_uri": "https://localhost:8080/",
          "height": 279
        },
        "id": "I9JvnOtWV_gL",
        "outputId": "4646c867-1ee2-42a7-c772-9d1acb9c6969"
      },
      "execution_count": 72,
      "outputs": [
        {
          "output_type": "display_data",
          "data": {
            "text/plain": [
              "<Figure size 432x288 with 1 Axes>"
            ],
            "image/png": "[encoded data removed]"
          },
          "metadata": {}
        }
      ]
    },
    {
      "cell_type": "markdown",
      "source": [
        "**56.Count of canceled status**"
      ],
      "metadata": {
        "id": "uND6FGJD-Xib"
      }
    },
    {
      "cell_type": "code",
      "source": [
        "filtering1 = AmbulatoryVisits['VisitStatus'] == 'Canceled'\n",
        "AmbulatoryVisits.where(filtering1,inplace=True)\n",
        "AmbulatoryVisits.groupby([\"VisitStatus\"])['VisitID'].count()\n",
        "\n",
        "\n"
      ],
      "metadata": {
        "colab": {
          "base_uri": "https://localhost:8080/"
        },
        "id": "QqsEk_VRYB78",
        "outputId": "36dc7bad-2ba9-4f07-cf9a-be3c4a6f39e8"
      },
      "execution_count": 151,
      "outputs": [
        {
          "output_type": "execute_result",
          "data": {
            "text/plain": [
              "VisitStatus\n",
              "Canceled    60\n",
              "Name: VisitID, dtype: int64"
            ]
          },
          "metadata": {},
          "execution_count": 151
        }
      ]
    },
    {
      "cell_type": "markdown",
      "source": [
        "**57.Find the age prone to get stroke**"
      ],
      "metadata": {
        "id": "3WjzlwLy-1dR"
      }
    },
    {
      "cell_type": "code",
      "source": [
        "from datetime import datetime, date\n",
        "# This function converts given date to age\n",
        "def age(born):\n",
        "    born = datetime.strptime(born, \"%m/%d/%Y\").date()\n",
        "    today = date.today()\n",
        "    return today.year - born.year - ((today.month, \n",
        "                                      today.day) < (born.month, \n",
        "                                                    born.day))  \n",
        "Patients['Age'] = Patients['DateOfBirth'].apply(age)\n",
        "patients_proneage=Patients.merge(ReAdmissionRegistry[['PatientID', 'PrimaryDiagnosis']])\n",
        "patients_proneage=patients_proneage[patients_proneage['PrimaryDiagnosis']=='Stroke']\n",
        "patients_proneage.groupby([\"PrimaryDiagnosis\",\"Age\"])['PatientID'].count()\n",
        "\n",
        "#SOLUTION 1\n",
        "#patients_proneage.groupby(['PrimaryDiagnosis'])['Age'].\n",
        "\n",
        "\n",
        "\n"
      ],
      "metadata": {
        "colab": {
          "base_uri": "https://localhost:8080/"
        },
        "id": "3p90TsO2YCwU",
        "outputId": "03cee4a0-926b-4ec2-892b-931cea5b5b92"
      },
      "execution_count": 182,
      "outputs": [
        {
          "output_type": "execute_result",
          "data": {
            "text/plain": [
              "PrimaryDiagnosis  Age\n",
              "Stroke            35     1\n",
              "                  36     2\n",
              "                  37     2\n",
              "                  38     4\n",
              "                  39     4\n",
              "                  40     2\n",
              "                  41     4\n",
              "                  43     2\n",
              "                  44     2\n",
              "                  45     1\n",
              "                  46     2\n",
              "                  47     4\n",
              "                  48     3\n",
              "                  49     2\n",
              "                  50     1\n",
              "                  51     3\n",
              "                  52     2\n",
              "                  53     3\n",
              "                  54     3\n",
              "                  56     3\n",
              "                  57     6\n",
              "                  58     2\n",
              "                  59     2\n",
              "                  60     3\n",
              "                  61     4\n",
              "                  62     1\n",
              "Name: PatientID, dtype: int64"
            ]
          },
          "metadata": {},
          "execution_count": 182
        }
      ]
    },
    {
      "cell_type": "markdown",
      "source": [
        "**58.Display total count of patients service wise based on gender**"
      ],
      "metadata": {
        "id": "xSlvN1bf-1Z0"
      }
    },
    {
      "cell_type": "code",
      "source": [
        "patients_new=Patients.merge(ReAdmissionRegistry[['PatientID', 'Service']])\n",
        "patients_new.groupby(['Service','Gender'])['PatientID'].count()"
      ],
      "metadata": {
        "colab": {
          "base_uri": "https://localhost:8080/"
        },
        "id": "hyDztpgGYDdE",
        "outputId": "12cef101-cb19-41a1-c9f2-3607a01aad31"
      },
      "execution_count": 105,
      "outputs": [
        {
          "output_type": "execute_result",
          "data": {
            "text/plain": [
              "Service           Gender\n",
              "Cardiology        Female     41\n",
              "                  Male       54\n",
              "General Medicine  Female    114\n",
              "                  Male      149\n",
              "Hospitalist       Female     35\n",
              "                  Male       66\n",
              "ICU               Female     65\n",
              "                  Male       86\n",
              "Neurology         Female     34\n",
              "                  Male       31\n",
              "Orthopeadics      Female     22\n",
              "                  Male       23\n",
              "Name: PatientID, dtype: int64"
            ]
          },
          "metadata": {},
          "execution_count": 105
        }
      ]
    },
    {
      "cell_type": "markdown",
      "source": [
        "**59.Create a dataframe by splitting provider name to firstname and lastname with names for the columns**"
      ],
      "metadata": {
        "id": "i-_-xP8D-1Tp"
      }
    },
    {
      "cell_type": "code",
      "source": [
        "Providers_new=pd.DataFrame()\n",
        "Providers_new[['First Name', 'Last Name']] = Providers['ProviderName'].str.split(' ', 1, expand=True)\n",
        "Providers_new\n"
      ],
      "metadata": {
        "colab": {
          "base_uri": "https://localhost:8080/",
          "height": 1000
        },
        "id": "IP_68q6KYEF-",
        "outputId": "e7836481-e504-4fec-f281-b870f06df073"
      },
      "execution_count": 109,
      "outputs": [
        {
          "output_type": "execute_result",
          "data": {
            "text/plain": [
              "   First Name Last Name\n",
              "0       Sally       Sue\n",
              "1        Mike     Myers\n",
              "2      Jordan   Michael\n",
              "3         Ted     Texas\n",
              "4         Ala      Bama\n",
              "5       Harry      Kane\n",
              "6       Barry       Bar\n",
              "7         Ted     Green\n",
              "8         Ted     Black\n",
              "9        Fred       Man\n",
              "10        Kim  Kimberly\n",
              "11      Sarah        Ab\n",
              "12    Abigail   Marriot\n",
              "13       Dave        Yu\n",
              "14  Christian     Saint\n",
              "15      Perry    Pardon\n",
              "16       Kent   Kendall\n",
              "17       Ryan     Kevin\n",
              "18      Tyler    Conner\n",
              "19     Bailey    Barret\n",
              "20      Megan     Bonco\n",
              "21     Joesph    Walter\n",
              "22     Walter      King\n",
              "23       Luke      Long\n",
              "24     Justin      Time\n",
              "25       Mike    Joseph\n",
              "26    Bridget    Brenda\n",
              "27     Brenda      Bing\n",
              "28   Chandler      Bing\n",
              "29     Joesph      Ross\n",
              "30     Dwight     Scott\n",
              "31    Michael   Halpert\n",
              "32     Pamela      Ding\n",
              "33       Tony     Creed\n",
              "34    Phyllis   Stanley\n",
              "35      Holly       Hue\n",
              "36      Trent       Tye\n",
              "37   Kimberly      Cone\n",
              "38      Harry      West\n",
              "39      Rosie    Renter"
            ],
            "text/html": [
              "\n",
              "  <div id=\"df-cbaae2f0-6e51-4d4f-9762-22d791b51aae\">\n",
              "    <div class=\"colab-df-container\">\n",
              "      <div>\n",
              "<style scoped>\n",
              "    .dataframe tbody tr th:only-of-type {\n",
              "        vertical-align: middle;\n",
              "    }\n",
              "\n",
              "    .dataframe tbody tr th {\n",
              "        vertical-align: top;\n",
              "    }\n",
              "\n",
              "    .dataframe thead th {\n",
              "        text-align: right;\n",
              "    }\n",
              "</style>\n",
              "<table border=\"1\" class=\"dataframe\">\n",
              "  <thead>\n",
              "    <tr style=\"text-align: right;\">\n",
              "      <th></th>\n",
              "      <th>First Name</th>\n",
              "      <th>Last Name</th>\n",
              "    </tr>\n",
              "  </thead>\n",
              "  <tbody>\n",
              "    <tr>\n",
              "      <th>0</th>\n",
              "      <td>Sally</td>\n",
              "      <td>Sue</td>\n",
              "    </tr>\n",
              "    <tr>\n",
              "      <th>1</th>\n",
              "      <td>Mike</td>\n",
              "      <td>Myers</td>\n",
              "    </tr>\n",
              "    <tr>\n",
              "      <th>2</th>\n",
              "      <td>Jordan</td>\n",
              "      <td>Michael</td>\n",
              "    </tr>\n",
              "    <tr>\n",
              "      <th>3</th>\n",
              "      <td>Ted</td>\n",
              "      <td>Texas</td>\n",
              "    </tr>\n",
              "    <tr>\n",
              "      <th>4</th>\n",
              "      <td>Ala</td>\n",
              "      <td>Bama</td>\n",
              "    </tr>\n",
              "    <tr>\n",
              "      <th>5</th>\n",
              "      <td>Harry</td>\n",
              "      <td>Kane</td>\n",
              "    </tr>\n",
              "    <tr>\n",
              "      <th>6</th>\n",
              "      <td>Barry</td>\n",
              "      <td>Bar</td>\n",
              "    </tr>\n",
              "    <tr>\n",
              "      <th>7</th>\n",
              "      <td>Ted</td>\n",
              "      <td>Green</td>\n",
              "    </tr>\n",
              "    <tr>\n",
              "      <th>8</th>\n",
              "      <td>Ted</td>\n",
              "      <td>Black</td>\n",
              "    </tr>\n",
              "    <tr>\n",
              "      <th>9</th>\n",
              "      <td>Fred</td>\n",
              "      <td>Man</td>\n",
              "    </tr>\n",
              "    <tr>\n",
              "      <th>10</th>\n",
              "      <td>Kim</td>\n",
              "      <td>Kimberly</td>\n",
              "    </tr>\n",
              "    <tr>\n",
              "      <th>11</th>\n",
              "      <td>Sarah</td>\n",
              "      <td>Ab</td>\n",
              "    </tr>\n",
              "    <tr>\n",
              "      <th>12</th>\n",
              "      <td>Abigail</td>\n",
              "      <td>Marriot</td>\n",
              "    </tr>\n",
              "    <tr>\n",
              "      <th>13</th>\n",
              "      <td>Dave</td>\n",
              "      <td>Yu</td>\n",
              "    </tr>\n",
              "    <tr>\n",
              "      <th>14</th>\n",
              "      <td>Christian</td>\n",
              "      <td>Saint</td>\n",
              "    </tr>\n",
              "    <tr>\n",
              "      <th>15</th>\n",
              "      <td>Perry</td>\n",
              "      <td>Pardon</td>\n",
              "    </tr>\n",
              "    <tr>\n",
              "      <th>16</th>\n",
              "      <td>Kent</td>\n",
              "      <td>Kendall</td>\n",
              "    </tr>\n",
              "    <tr>\n",
              "      <th>17</th>\n",
              "      <td>Ryan</td>\n",
              "      <td>Kevin</td>\n",
              "    </tr>\n",
              "    <tr>\n",
              "      <th>18</th>\n",
              "      <td>Tyler</td>\n",
              "      <td>Conner</td>\n",
              "    </tr>\n",
              "    <tr>\n",
              "      <th>19</th>\n",
              "      <td>Bailey</td>\n",
              "      <td>Barret</td>\n",
              "    </tr>\n",
              "    <tr>\n",
              "      <th>20</th>\n",
              "      <td>Megan</td>\n",
              "      <td>Bonco</td>\n",
              "    </tr>\n",
              "    <tr>\n",
              "      <th>21</th>\n",
              "      <td>Joesph</td>\n",
              "      <td>Walter</td>\n",
              "    </tr>\n",
              "    <tr>\n",
              "      <th>22</th>\n",
              "      <td>Walter</td>\n",
              "      <td>King</td>\n",
              "    </tr>\n",
              "    <tr>\n",
              "      <th>23</th>\n",
              "      <td>Luke</td>\n",
              "      <td>Long</td>\n",
              "    </tr>\n",
              "    <tr>\n",
              "      <th>24</th>\n",
              "      <td>Justin</td>\n",
              "      <td>Time</td>\n",
              "    </tr>\n",
              "    <tr>\n",
              "      <th>25</th>\n",
              "      <td>Mike</td>\n",
              "      <td>Joseph</td>\n",
              "    </tr>\n",
              "    <tr>\n",
              "      <th>26</th>\n",
              "      <td>Bridget</td>\n",
              "      <td>Brenda</td>\n",
              "    </tr>\n",
              "    <tr>\n",
              "      <th>27</th>\n",
              "      <td>Brenda</td>\n",
              "      <td>Bing</td>\n",
              "    </tr>\n",
              "    <tr>\n",
              "      <th>28</th>\n",
              "      <td>Chandler</td>\n",
              "      <td>Bing</td>\n",
              "    </tr>\n",
              "    <tr>\n",
              "      <th>29</th>\n",
              "      <td>Joesph</td>\n",
              "      <td>Ross</td>\n",
              "    </tr>\n",
              "    <tr>\n",
              "      <th>30</th>\n",
              "      <td>Dwight</td>\n",
              "      <td>Scott</td>\n",
              "    </tr>\n",
              "    <tr>\n",
              "      <th>31</th>\n",
              "      <td>Michael</td>\n",
              "      <td>Halpert</td>\n",
              "    </tr>\n",
              "    <tr>\n",
              "      <th>32</th>\n",
              "      <td>Pamela</td>\n",
              "      <td>Ding</td>\n",
              "    </tr>\n",
              "    <tr>\n",
              "      <th>33</th>\n",
              "      <td>Tony</td>\n",
              "      <td>Creed</td>\n",
              "    </tr>\n",
              "    <tr>\n",
              "      <th>34</th>\n",
              "      <td>Phyllis</td>\n",
              "      <td>Stanley</td>\n",
              "    </tr>\n",
              "    <tr>\n",
              "      <th>35</th>\n",
              "      <td>Holly</td>\n",
              "      <td>Hue</td>\n",
              "    </tr>\n",
              "    <tr>\n",
              "      <th>36</th>\n",
              "      <td>Trent</td>\n",
              "      <td>Tye</td>\n",
              "    </tr>\n",
              "    <tr>\n",
              "      <th>37</th>\n",
              "      <td>Kimberly</td>\n",
              "      <td>Cone</td>\n",
              "    </tr>\n",
              "    <tr>\n",
              "      <th>38</th>\n",
              "      <td>Harry</td>\n",
              "      <td>West</td>\n",
              "    </tr>\n",
              "    <tr>\n",
              "      <th>39</th>\n",
              "      <td>Rosie</td>\n",
              "      <td>Renter</td>\n",
              "    </tr>\n",
              "  </tbody>\n",
              "</table>\n",
              "</div>\n",
              "      <button class=\"colab-df-convert\" onclick=\"convertToInteractive('df-cbaae2f0-6e51-4d4f-9762-22d791b51aae')\"\n",
              "              title=\"Convert this dataframe to an interactive table.\"\n",
              "              style=\"display:none;\">\n",
              "        \n",
              "  <svg xmlns=\"http://www.w3.org/2000/svg\" height=\"24px\"viewBox=\"0 0 24 24\"\n",
              "       width=\"24px\">\n",
              "    <path d=\"M0 0h24v24H0V0z\" fill=\"none\"/>\n",
              "    <path d=\"M18.56 5.44l.94 2.06.94-2.06 2.06-.94-2.06-.94-.94-2.06-.94 2.06-2.06.94zm-11 1L8.5 8.5l.94-2.06 2.06-.94-2.06-.94L8.5 2.5l-.94 2.06-2.06.94zm10 10l.94 2.06.94-2.06 2.06-.94-2.06-.94-.94-2.06-.94 2.06-2.06.94z\"/><path d=\"M17.41 7.96l-1.37-1.37c-.4-.4-.92-.59-1.43-.59-.52 0-1.04.2-1.43.59L10.3 9.45l-7.72 7.72c-.78.78-.78 2.05 0 2.83L4 21.41c.39.39.9.59 1.41.59.51 0 1.02-.2 1.41-.59l7.78-7.78 2.81-2.81c.8-.78.8-2.07 0-2.86zM5.41 20L4 18.59l7.72-7.72 1.47 1.35L5.41 20z\"/>\n",
              "  </svg>\n",
              "      </button>\n",
              "      \n",
              "  <style>\n",
              "    .colab-df-container {\n",
              "      display:flex;\n",
              "      flex-wrap:wrap;\n",
              "      gap: 12px;\n",
              "    }\n",
              "\n",
              "    .colab-df-convert {\n",
              "      background-color: #E8F0FE;\n",
              "      border: none;\n",
              "      border-radius: 50%;\n",
              "      cursor: pointer;\n",
              "      display: none;\n",
              "      fill: #1967D2;\n",
              "      height: 32px;\n",
              "      padding: 0 0 0 0;\n",
              "      width: 32px;\n",
              "    }\n",
              "\n",
              "    .colab-df-convert:hover {\n",
              "      background-color: #E2EBFA;\n",
              "      box-shadow: 0px 1px 2px rgba(60, 64, 67, 0.3), 0px 1px 3px 1px rgba(60, 64, 67, 0.15);\n",
              "      fill: #174EA6;\n",
              "    }\n",
              "\n",
              "    [theme=dark] .colab-df-convert {\n",
              "      background-color: #3B4455;\n",
              "      fill: #D2E3FC;\n",
              "    }\n",
              "\n",
              "    [theme=dark] .colab-df-convert:hover {\n",
              "      background-color: #434B5C;\n",
              "      box-shadow: 0px 1px 3px 1px rgba(0, 0, 0, 0.15);\n",
              "      filter: drop-shadow(0px 1px 2px rgba(0, 0, 0, 0.3));\n",
              "      fill: #FFFFFF;\n",
              "    }\n",
              "  </style>\n",
              "\n",
              "      <script>\n",
              "        const buttonEl =\n",
              "          document.querySelector('#df-cbaae2f0-6e51-4d4f-9762-22d791b51aae button.colab-df-convert');\n",
              "        buttonEl.style.display =\n",
              "          google.colab.kernel.accessAllowed ? 'block' : 'none';\n",
              "\n",
              "        async function convertToInteractive(key) {\n",
              "          const element = document.querySelector('#df-cbaae2f0-6e51-4d4f-9762-22d791b51aae');\n",
              "          const dataTable =\n",
              "            await google.colab.kernel.invokeFunction('convertToInteractive',\n",
              "                                                     [key], {});\n",
              "          if (!dataTable) return;\n",
              "\n",
              "          const docLinkHtml = 'Like what you see? Visit the ' +\n",
              "            '<a target=\"_blank\" href=https://colab.research.google.com/notebooks/data_table.ipynb>data table notebook</a>'\n",
              "            + ' to learn more about interactive tables.';\n",
              "          element.innerHTML = '';\n",
              "          dataTable['output_type'] = 'display_data';\n",
              "          await google.colab.output.renderOutput(dataTable, element);\n",
              "          const docLink = document.createElement('div');\n",
              "          docLink.innerHTML = docLinkHtml;\n",
              "          element.appendChild(docLink);\n",
              "        }\n",
              "      </script>\n",
              "    </div>\n",
              "  </div>\n",
              "  "
            ]
          },
          "metadata": {},
          "execution_count": 109
        }
      ]
    },
    {
      "cell_type": "markdown",
      "source": [
        "\n",
        "\n",
        "```\n",
        "# This is formatted as code\n",
        "```\n",
        "\n",
        "60.Predict the output of the program..\n",
        "class Acc: \n",
        "def __init__(self, id): \n",
        "self.id = id\n",
        "id = 555 \n",
        "\n",
        "acc = Acc(111) \n",
        "print(acc.id)\n"
      ],
      "metadata": {
        "id": "adYCqiYV-1Gb"
      }
    },
    {
      "cell_type": "code",
      "source": [
        ""
      ],
      "metadata": {
        "id": "fiDMQGuhqicA"
      },
      "execution_count": null,
      "outputs": []
    },
    {
      "cell_type": "markdown",
      "source": [
        "**81.Display full name of patients**\n"
      ],
      "metadata": {
        "id": "Skbg3AOr-0is"
      }
    },
    {
      "cell_type": "code",
      "source": [
        "Patients_fullname = pd.DataFrame()\n",
        "Patients_fullname['Full Name'] = Patients['FirstName'] + ' ' + Patients['LastName']\n",
        "Patients_fullname"
      ],
      "metadata": {
        "colab": {
          "base_uri": "https://localhost:8080/",
          "height": 424
        },
        "id": "h_26KxL3qhTn",
        "outputId": "8c310fa6-b35f-42e9-95ed-44dae796714f"
      },
      "execution_count": 111,
      "outputs": [
        {
          "output_type": "execute_result",
          "data": {
            "text/plain": [
              "            Full Name\n",
              "0           Lanni Sue\n",
              "1           Far Myers\n",
              "2     Devlin  Michael\n",
              "3       Carmine Texas\n",
              "4          Tann  Bama\n",
              "..                ...\n",
              "940       Wat Fideler\n",
              "941   Wandie Baythrop\n",
              "942   Diahann Smeeton\n",
              "943  Panchito Sharple\n",
              "944      Walsh Calvie\n",
              "\n",
              "[945 rows x 1 columns]"
            ],
            "text/html": [
              "\n",
              "  <div id=\"df-fc307f2e-009c-4277-83b5-e507364df73f\">\n",
              "    <div class=\"colab-df-container\">\n",
              "      <div>\n",
              "<style scoped>\n",
              "    .dataframe tbody tr th:only-of-type {\n",
              "        vertical-align: middle;\n",
              "    }\n",
              "\n",
              "    .dataframe tbody tr th {\n",
              "        vertical-align: top;\n",
              "    }\n",
              "\n",
              "    .dataframe thead th {\n",
              "        text-align: right;\n",
              "    }\n",
              "</style>\n",
              "<table border=\"1\" class=\"dataframe\">\n",
              "  <thead>\n",
              "    <tr style=\"text-align: right;\">\n",
              "      <th></th>\n",
              "      <th>Full Name</th>\n",
              "    </tr>\n",
              "  </thead>\n",
              "  <tbody>\n",
              "    <tr>\n",
              "      <th>0</th>\n",
              "      <td>Lanni Sue</td>\n",
              "    </tr>\n",
              "    <tr>\n",
              "      <th>1</th>\n",
              "      <td>Far Myers</td>\n",
              "    </tr>\n",
              "    <tr>\n",
              "      <th>2</th>\n",
              "      <td>Devlin  Michael</td>\n",
              "    </tr>\n",
              "    <tr>\n",
              "      <th>3</th>\n",
              "      <td>Carmine Texas</td>\n",
              "    </tr>\n",
              "    <tr>\n",
              "      <th>4</th>\n",
              "      <td>Tann  Bama</td>\n",
              "    </tr>\n",
              "    <tr>\n",
              "      <th>...</th>\n",
              "      <td>...</td>\n",
              "    </tr>\n",
              "    <tr>\n",
              "      <th>940</th>\n",
              "      <td>Wat Fideler</td>\n",
              "    </tr>\n",
              "    <tr>\n",
              "      <th>941</th>\n",
              "      <td>Wandie Baythrop</td>\n",
              "    </tr>\n",
              "    <tr>\n",
              "      <th>942</th>\n",
              "      <td>Diahann Smeeton</td>\n",
              "    </tr>\n",
              "    <tr>\n",
              "      <th>943</th>\n",
              "      <td>Panchito Sharple</td>\n",
              "    </tr>\n",
              "    <tr>\n",
              "      <th>944</th>\n",
              "      <td>Walsh Calvie</td>\n",
              "    </tr>\n",
              "  </tbody>\n",
              "</table>\n",
              "<p>945 rows × 1 columns</p>\n",
              "</div>\n",
              "      <button class=\"colab-df-convert\" onclick=\"convertToInteractive('df-fc307f2e-009c-4277-83b5-e507364df73f')\"\n",
              "              title=\"Convert this dataframe to an interactive table.\"\n",
              "              style=\"display:none;\">\n",
              "        \n",
              "  <svg xmlns=\"http://www.w3.org/2000/svg\" height=\"24px\"viewBox=\"0 0 24 24\"\n",
              "       width=\"24px\">\n",
              "    <path d=\"M0 0h24v24H0V0z\" fill=\"none\"/>\n",
              "    <path d=\"M18.56 5.44l.94 2.06.94-2.06 2.06-.94-2.06-.94-.94-2.06-.94 2.06-2.06.94zm-11 1L8.5 8.5l.94-2.06 2.06-.94-2.06-.94L8.5 2.5l-.94 2.06-2.06.94zm10 10l.94 2.06.94-2.06 2.06-.94-2.06-.94-.94-2.06-.94 2.06-2.06.94z\"/><path d=\"M17.41 7.96l-1.37-1.37c-.4-.4-.92-.59-1.43-.59-.52 0-1.04.2-1.43.59L10.3 9.45l-7.72 7.72c-.78.78-.78 2.05 0 2.83L4 21.41c.39.39.9.59 1.41.59.51 0 1.02-.2 1.41-.59l7.78-7.78 2.81-2.81c.8-.78.8-2.07 0-2.86zM5.41 20L4 18.59l7.72-7.72 1.47 1.35L5.41 20z\"/>\n",
              "  </svg>\n",
              "      </button>\n",
              "      \n",
              "  <style>\n",
              "    .colab-df-container {\n",
              "      display:flex;\n",
              "      flex-wrap:wrap;\n",
              "      gap: 12px;\n",
              "    }\n",
              "\n",
              "    .colab-df-convert {\n",
              "      background-color: #E8F0FE;\n",
              "      border: none;\n",
              "      border-radius: 50%;\n",
              "      cursor: pointer;\n",
              "      display: none;\n",
              "      fill: #1967D2;\n",
              "      height: 32px;\n",
              "      padding: 0 0 0 0;\n",
              "      width: 32px;\n",
              "    }\n",
              "\n",
              "    .colab-df-convert:hover {\n",
              "      background-color: #E2EBFA;\n",
              "      box-shadow: 0px 1px 2px rgba(60, 64, 67, 0.3), 0px 1px 3px 1px rgba(60, 64, 67, 0.15);\n",
              "      fill: #174EA6;\n",
              "    }\n",
              "\n",
              "    [theme=dark] .colab-df-convert {\n",
              "      background-color: #3B4455;\n",
              "      fill: #D2E3FC;\n",
              "    }\n",
              "\n",
              "    [theme=dark] .colab-df-convert:hover {\n",
              "      background-color: #434B5C;\n",
              "      box-shadow: 0px 1px 3px 1px rgba(0, 0, 0, 0.15);\n",
              "      filter: drop-shadow(0px 1px 2px rgba(0, 0, 0, 0.3));\n",
              "      fill: #FFFFFF;\n",
              "    }\n",
              "  </style>\n",
              "\n",
              "      <script>\n",
              "        const buttonEl =\n",
              "          document.querySelector('#df-fc307f2e-009c-4277-83b5-e507364df73f button.colab-df-convert');\n",
              "        buttonEl.style.display =\n",
              "          google.colab.kernel.accessAllowed ? 'block' : 'none';\n",
              "\n",
              "        async function convertToInteractive(key) {\n",
              "          const element = document.querySelector('#df-fc307f2e-009c-4277-83b5-e507364df73f');\n",
              "          const dataTable =\n",
              "            await google.colab.kernel.invokeFunction('convertToInteractive',\n",
              "                                                     [key], {});\n",
              "          if (!dataTable) return;\n",
              "\n",
              "          const docLinkHtml = 'Like what you see? Visit the ' +\n",
              "            '<a target=\"_blank\" href=https://colab.research.google.com/notebooks/data_table.ipynb>data table notebook</a>'\n",
              "            + ' to learn more about interactive tables.';\n",
              "          element.innerHTML = '';\n",
              "          dataTable['output_type'] = 'display_data';\n",
              "          await google.colab.output.renderOutput(dataTable, element);\n",
              "          const docLink = document.createElement('div');\n",
              "          docLink.innerHTML = docLinkHtml;\n",
              "          element.appendChild(docLink);\n",
              "        }\n",
              "      </script>\n",
              "    </div>\n",
              "  </div>\n",
              "  "
            ]
          },
          "metadata": {},
          "execution_count": 111
        }
      ]
    },
    {
      "cell_type": "markdown",
      "source": [
        "**82.Retrieve the rows where SBP<140 and DBP<80**"
      ],
      "metadata": {
        "id": "X4zRcu-F_g1o"
      }
    },
    {
      "cell_type": "code",
      "source": [
        "AmbulatoryVisits[(AmbulatoryVisits.BloodPressureSystolic < 140 ) & (AmbulatoryVisits.BloodPressureDiastolic < 80)]\n",
        "#AmbulatoryVisits.head()"
      ],
      "metadata": {
        "colab": {
          "base_uri": "https://localhost:8080/",
          "height": 488
        },
        "id": "tcwjeDTRqhrs",
        "outputId": "8707522a-b7bb-45c6-d495-8a508256dd97"
      },
      "execution_count": 150,
      "outputs": [
        {
          "output_type": "execute_result",
          "data": {
            "text/plain": [
              "     VisitID  PatientMRN  ProviderID DateofVisit DateScheduled  \\\n",
              "5        809         894          31   3/13/2019     2/28/2019   \n",
              "16       707         859          36   3/16/2019     2/26/2019   \n",
              "18       503         887          12   1/21/2019      1/7/2019   \n",
              "19       710         862           1   3/19/2019      3/3/2019   \n",
              "23       711         863           1   3/20/2019     3/10/2019   \n",
              "..       ...         ...         ...         ...           ...   \n",
              "909      177         815          32   2/22/2019      2/4/2019   \n",
              "929      786         871          34   3/25/2019     2/26/2019   \n",
              "932      394         623           6    2/5/2019     1/10/2019   \n",
              "941      399         638          11   2/10/2019      2/2/2019   \n",
              "943      403         650          15   2/14/2019     2/11/2019   \n",
              "\n",
              "     VisitDepartmentID     VisitType  BloodPressureSystolic  \\\n",
              "5                    2      Physical                  121.0   \n",
              "16                   6     Follow Up                  137.0   \n",
              "18                   7     Follow Up                  131.0   \n",
              "19                   9  Telemedicine                  127.0   \n",
              "23                  10  Telemedicine                  124.0   \n",
              "..                 ...           ...                    ...   \n",
              "909                  9     Follow Up                  122.0   \n",
              "929                  3  Telemedicine                  122.0   \n",
              "932                  9      Physical                  130.0   \n",
              "941                  2      Physical                  121.0   \n",
              "943                  6      Physical                  129.0   \n",
              "\n",
              "     BloodPressureDiastolic      Pulse VisitStatus  \n",
              "5                 57.692485  60.402573     No Show  \n",
              "16                72.756586  64.071361     No Show  \n",
              "18                74.163851  97.248671     No Show  \n",
              "19                66.406797  94.537837     No Show  \n",
              "23                77.303553  77.926874     No Show  \n",
              "..                      ...        ...         ...  \n",
              "909               67.615828  52.742629    Canceled  \n",
              "929               78.210501  53.760978    Canceled  \n",
              "932               75.114100  80.951071    Canceled  \n",
              "941               64.896818  68.496869    Canceled  \n",
              "943               68.506636  62.732434    Canceled  \n",
              "\n",
              "[103 rows x 11 columns]"
            ],
            "text/html": [
              "\n",
              "  <div id=\"df-c45eb2b2-8b30-4cf7-9a83-4ab358a8a9b0\">\n",
              "    <div class=\"colab-df-container\">\n",
              "      <div>\n",
              "<style scoped>\n",
              "    .dataframe tbody tr th:only-of-type {\n",
              "        vertical-align: middle;\n",
              "    }\n",
              "\n",
              "    .dataframe tbody tr th {\n",
              "        vertical-align: top;\n",
              "    }\n",
              "\n",
              "    .dataframe thead th {\n",
              "        text-align: right;\n",
              "    }\n",
              "</style>\n",
              "<table border=\"1\" class=\"dataframe\">\n",
              "  <thead>\n",
              "    <tr style=\"text-align: right;\">\n",
              "      <th></th>\n",
              "      <th>VisitID</th>\n",
              "      <th>PatientMRN</th>\n",
              "      <th>ProviderID</th>\n",
              "      <th>DateofVisit</th>\n",
              "      <th>DateScheduled</th>\n",
              "      <th>VisitDepartmentID</th>\n",
              "      <th>VisitType</th>\n",
              "      <th>BloodPressureSystolic</th>\n",
              "      <th>BloodPressureDiastolic</th>\n",
              "      <th>Pulse</th>\n",
              "      <th>VisitStatus</th>\n",
              "    </tr>\n",
              "  </thead>\n",
              "  <tbody>\n",
              "    <tr>\n",
              "      <th>5</th>\n",
              "      <td>809</td>\n",
              "      <td>894</td>\n",
              "      <td>31</td>\n",
              "      <td>3/13/2019</td>\n",
              "      <td>2/28/2019</td>\n",
              "      <td>2</td>\n",
              "      <td>Physical</td>\n",
              "      <td>121.0</td>\n",
              "      <td>57.692485</td>\n",
              "      <td>60.402573</td>\n",
              "      <td>No Show</td>\n",
              "    </tr>\n",
              "    <tr>\n",
              "      <th>16</th>\n",
              "      <td>707</td>\n",
              "      <td>859</td>\n",
              "      <td>36</td>\n",
              "      <td>3/16/2019</td>\n",
              "      <td>2/26/2019</td>\n",
              "      <td>6</td>\n",
              "      <td>Follow Up</td>\n",
              "      <td>137.0</td>\n",
              "      <td>72.756586</td>\n",
              "      <td>64.071361</td>\n",
              "      <td>No Show</td>\n",
              "    </tr>\n",
              "    <tr>\n",
              "      <th>18</th>\n",
              "      <td>503</td>\n",
              "      <td>887</td>\n",
              "      <td>12</td>\n",
              "      <td>1/21/2019</td>\n",
              "      <td>1/7/2019</td>\n",
              "      <td>7</td>\n",
              "      <td>Follow Up</td>\n",
              "      <td>131.0</td>\n",
              "      <td>74.163851</td>\n",
              "      <td>97.248671</td>\n",
              "      <td>No Show</td>\n",
              "    </tr>\n",
              "    <tr>\n",
              "      <th>19</th>\n",
              "      <td>710</td>\n",
              "      <td>862</td>\n",
              "      <td>1</td>\n",
              "      <td>3/19/2019</td>\n",
              "      <td>3/3/2019</td>\n",
              "      <td>9</td>\n",
              "      <td>Telemedicine</td>\n",
              "      <td>127.0</td>\n",
              "      <td>66.406797</td>\n",
              "      <td>94.537837</td>\n",
              "      <td>No Show</td>\n",
              "    </tr>\n",
              "    <tr>\n",
              "      <th>23</th>\n",
              "      <td>711</td>\n",
              "      <td>863</td>\n",
              "      <td>1</td>\n",
              "      <td>3/20/2019</td>\n",
              "      <td>3/10/2019</td>\n",
              "      <td>10</td>\n",
              "      <td>Telemedicine</td>\n",
              "      <td>124.0</td>\n",
              "      <td>77.303553</td>\n",
              "      <td>77.926874</td>\n",
              "      <td>No Show</td>\n",
              "    </tr>\n",
              "    <tr>\n",
              "      <th>...</th>\n",
              "      <td>...</td>\n",
              "      <td>...</td>\n",
              "      <td>...</td>\n",
              "      <td>...</td>\n",
              "      <td>...</td>\n",
              "      <td>...</td>\n",
              "      <td>...</td>\n",
              "      <td>...</td>\n",
              "      <td>...</td>\n",
              "      <td>...</td>\n",
              "      <td>...</td>\n",
              "    </tr>\n",
              "    <tr>\n",
              "      <th>909</th>\n",
              "      <td>177</td>\n",
              "      <td>815</td>\n",
              "      <td>32</td>\n",
              "      <td>2/22/2019</td>\n",
              "      <td>2/4/2019</td>\n",
              "      <td>9</td>\n",
              "      <td>Follow Up</td>\n",
              "      <td>122.0</td>\n",
              "      <td>67.615828</td>\n",
              "      <td>52.742629</td>\n",
              "      <td>Canceled</td>\n",
              "    </tr>\n",
              "    <tr>\n",
              "      <th>929</th>\n",
              "      <td>786</td>\n",
              "      <td>871</td>\n",
              "      <td>34</td>\n",
              "      <td>3/25/2019</td>\n",
              "      <td>2/26/2019</td>\n",
              "      <td>3</td>\n",
              "      <td>Telemedicine</td>\n",
              "      <td>122.0</td>\n",
              "      <td>78.210501</td>\n",
              "      <td>53.760978</td>\n",
              "      <td>Canceled</td>\n",
              "    </tr>\n",
              "    <tr>\n",
              "      <th>932</th>\n",
              "      <td>394</td>\n",
              "      <td>623</td>\n",
              "      <td>6</td>\n",
              "      <td>2/5/2019</td>\n",
              "      <td>1/10/2019</td>\n",
              "      <td>9</td>\n",
              "      <td>Physical</td>\n",
              "      <td>130.0</td>\n",
              "      <td>75.114100</td>\n",
              "      <td>80.951071</td>\n",
              "      <td>Canceled</td>\n",
              "    </tr>\n",
              "    <tr>\n",
              "      <th>941</th>\n",
              "      <td>399</td>\n",
              "      <td>638</td>\n",
              "      <td>11</td>\n",
              "      <td>2/10/2019</td>\n",
              "      <td>2/2/2019</td>\n",
              "      <td>2</td>\n",
              "      <td>Physical</td>\n",
              "      <td>121.0</td>\n",
              "      <td>64.896818</td>\n",
              "      <td>68.496869</td>\n",
              "      <td>Canceled</td>\n",
              "    </tr>\n",
              "    <tr>\n",
              "      <th>943</th>\n",
              "      <td>403</td>\n",
              "      <td>650</td>\n",
              "      <td>15</td>\n",
              "      <td>2/14/2019</td>\n",
              "      <td>2/11/2019</td>\n",
              "      <td>6</td>\n",
              "      <td>Physical</td>\n",
              "      <td>129.0</td>\n",
              "      <td>68.506636</td>\n",
              "      <td>62.732434</td>\n",
              "      <td>Canceled</td>\n",
              "    </tr>\n",
              "  </tbody>\n",
              "</table>\n",
              "<p>103 rows × 11 columns</p>\n",
              "</div>\n",
              "      <button class=\"colab-df-convert\" onclick=\"convertToInteractive('df-c45eb2b2-8b30-4cf7-9a83-4ab358a8a9b0')\"\n",
              "              title=\"Convert this dataframe to an interactive table.\"\n",
              "              style=\"display:none;\">\n",
              "        \n",
              "  <svg xmlns=\"http://www.w3.org/2000/svg\" height=\"24px\"viewBox=\"0 0 24 24\"\n",
              "       width=\"24px\">\n",
              "    <path d=\"M0 0h24v24H0V0z\" fill=\"none\"/>\n",
              "    <path d=\"M18.56 5.44l.94 2.06.94-2.06 2.06-.94-2.06-.94-.94-2.06-.94 2.06-2.06.94zm-11 1L8.5 8.5l.94-2.06 2.06-.94-2.06-.94L8.5 2.5l-.94 2.06-2.06.94zm10 10l.94 2.06.94-2.06 2.06-.94-2.06-.94-.94-2.06-.94 2.06-2.06.94z\"/><path d=\"M17.41 7.96l-1.37-1.37c-.4-.4-.92-.59-1.43-.59-.52 0-1.04.2-1.43.59L10.3 9.45l-7.72 7.72c-.78.78-.78 2.05 0 2.83L4 21.41c.39.39.9.59 1.41.59.51 0 1.02-.2 1.41-.59l7.78-7.78 2.81-2.81c.8-.78.8-2.07 0-2.86zM5.41 20L4 18.59l7.72-7.72 1.47 1.35L5.41 20z\"/>\n",
              "  </svg>\n",
              "      </button>\n",
              "      \n",
              "  <style>\n",
              "    .colab-df-container {\n",
              "      display:flex;\n",
              "      flex-wrap:wrap;\n",
              "      gap: 12px;\n",
              "    }\n",
              "\n",
              "    .colab-df-convert {\n",
              "      background-color: #E8F0FE;\n",
              "      border: none;\n",
              "      border-radius: 50%;\n",
              "      cursor: pointer;\n",
              "      display: none;\n",
              "      fill: #1967D2;\n",
              "      height: 32px;\n",
              "      padding: 0 0 0 0;\n",
              "      width: 32px;\n",
              "    }\n",
              "\n",
              "    .colab-df-convert:hover {\n",
              "      background-color: #E2EBFA;\n",
              "      box-shadow: 0px 1px 2px rgba(60, 64, 67, 0.3), 0px 1px 3px 1px rgba(60, 64, 67, 0.15);\n",
              "      fill: #174EA6;\n",
              "    }\n",
              "\n",
              "    [theme=dark] .colab-df-convert {\n",
              "      background-color: #3B4455;\n",
              "      fill: #D2E3FC;\n",
              "    }\n",
              "\n",
              "    [theme=dark] .colab-df-convert:hover {\n",
              "      background-color: #434B5C;\n",
              "      box-shadow: 0px 1px 3px 1px rgba(0, 0, 0, 0.15);\n",
              "      filter: drop-shadow(0px 1px 2px rgba(0, 0, 0, 0.3));\n",
              "      fill: #FFFFFF;\n",
              "    }\n",
              "  </style>\n",
              "\n",
              "      <script>\n",
              "        const buttonEl =\n",
              "          document.querySelector('#df-c45eb2b2-8b30-4cf7-9a83-4ab358a8a9b0 button.colab-df-convert');\n",
              "        buttonEl.style.display =\n",
              "          google.colab.kernel.accessAllowed ? 'block' : 'none';\n",
              "\n",
              "        async function convertToInteractive(key) {\n",
              "          const element = document.querySelector('#df-c45eb2b2-8b30-4cf7-9a83-4ab358a8a9b0');\n",
              "          const dataTable =\n",
              "            await google.colab.kernel.invokeFunction('convertToInteractive',\n",
              "                                                     [key], {});\n",
              "          if (!dataTable) return;\n",
              "\n",
              "          const docLinkHtml = 'Like what you see? Visit the ' +\n",
              "            '<a target=\"_blank\" href=https://colab.research.google.com/notebooks/data_table.ipynb>data table notebook</a>'\n",
              "            + ' to learn more about interactive tables.';\n",
              "          element.innerHTML = '';\n",
              "          dataTable['output_type'] = 'display_data';\n",
              "          await google.colab.output.renderOutput(dataTable, element);\n",
              "          const docLink = document.createElement('div');\n",
              "          docLink.innerHTML = docLinkHtml;\n",
              "          element.appendChild(docLink);\n",
              "        }\n",
              "      </script>\n",
              "    </div>\n",
              "  </div>\n",
              "  "
            ]
          },
          "metadata": {},
          "execution_count": 150
        }
      ]
    }
  ]
}